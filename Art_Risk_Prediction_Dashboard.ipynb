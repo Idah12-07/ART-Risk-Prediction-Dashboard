{
  "nbformat": 4,
  "nbformat_minor": 0,
  "metadata": {
    "colab": {
      "provenance": []
    },
    "kernelspec": {
      "name": "python3",
      "display_name": "Python 3"
    },
    "language_info": {
      "name": "python"
    }
  },
  "cells": [
    {
      "cell_type": "markdown",
      "source": [
        "# Step 1: Setup & Load Data"
      ],
      "metadata": {
        "id": "eI2uxI0hh_9q"
      }
    },
    {
      "cell_type": "code",
      "execution_count": null,
      "metadata": {
        "colab": {
          "base_uri": "https://localhost:8080/",
          "height": 394
        },
        "id": "Qnb1vXMug3aA",
        "outputId": "c144a011-0eb0-468c-f215-c9cbbd25e0b1"
      },
      "outputs": [
        {
          "output_type": "execute_result",
          "data": {
            "text/plain": [
              "               Name        Ccc No         Dob  Weight  Height Blood Pressure  \\\n",
              "0    Wangula, Peter  1.412302e+09  28/12/1959    60.0     170         122/73   \n",
              "1     Opiyo, Eunice  1.412302e+09  15/06/1992    60.0     163         111/70   \n",
              "2   Ouma, Elizabeth  1.412302e+09  26/02/1962    65.5     161         107/67   \n",
              "3    Juma, Josphine  1.412302e+09  05/07/1992    55.0     158         105/67   \n",
              "4  Omondi, Margaret  1.412302e+09  01/07/1990    47.0     151         126/81   \n",
              "\n",
              "   Age At Reporting Sex         Population Type Date Confirmed Hiv Positive  \\\n",
              "0                65   M  General Population\\n\\n                  05/04/2017   \n",
              "1                33   F  General Population\\n\\n                  03/05/2017   \n",
              "2                63   F  General Population\\n\\n                  06/03/2017   \n",
              "3                33   F  General Population\\n\\n                  27/02/2017   \n",
              "4                35   F  General Population\\n\\n                  18/02/2017   \n",
              "\n",
              "   ... Unnamed: 244 Unnamed: 245 Unnamed: 246 Unnamed: 247 Unnamed: 248  \\\n",
              "0  ...          NaN          NaN          NaN          NaN          NaN   \n",
              "1  ...          NaN          NaN          NaN          NaN          NaN   \n",
              "2  ...          NaN          NaN          NaN          NaN          NaN   \n",
              "3  ...          NaN          NaN          NaN          NaN          NaN   \n",
              "4  ...          NaN          NaN          NaN          NaN          NaN   \n",
              "\n",
              "  Unnamed: 249 Unnamed: 250 Unnamed: 251 Unnamed: 252 Unnamed: 253  \n",
              "0          NaN          NaN          NaN          NaN          NaN  \n",
              "1          NaN          NaN          NaN          NaN          NaN  \n",
              "2          NaN          NaN          NaN          NaN          NaN  \n",
              "3          NaN          NaN          NaN          NaN          NaN  \n",
              "4          NaN          NaN          NaN          NaN          NaN  \n",
              "\n",
              "[5 rows x 254 columns]"
            ],
            "text/html": [
              "\n",
              "  <div id=\"df-bb58c585-9763-4381-9c82-b6043db60e5d\" class=\"colab-df-container\">\n",
              "    <div>\n",
              "<style scoped>\n",
              "    .dataframe tbody tr th:only-of-type {\n",
              "        vertical-align: middle;\n",
              "    }\n",
              "\n",
              "    .dataframe tbody tr th {\n",
              "        vertical-align: top;\n",
              "    }\n",
              "\n",
              "    .dataframe thead th {\n",
              "        text-align: right;\n",
              "    }\n",
              "</style>\n",
              "<table border=\"1\" class=\"dataframe\">\n",
              "  <thead>\n",
              "    <tr style=\"text-align: right;\">\n",
              "      <th></th>\n",
              "      <th>Name</th>\n",
              "      <th>Ccc No</th>\n",
              "      <th>Dob</th>\n",
              "      <th>Weight</th>\n",
              "      <th>Height</th>\n",
              "      <th>Blood Pressure</th>\n",
              "      <th>Age At Reporting</th>\n",
              "      <th>Sex</th>\n",
              "      <th>Population Type</th>\n",
              "      <th>Date Confirmed Hiv Positive</th>\n",
              "      <th>...</th>\n",
              "      <th>Unnamed: 244</th>\n",
              "      <th>Unnamed: 245</th>\n",
              "      <th>Unnamed: 246</th>\n",
              "      <th>Unnamed: 247</th>\n",
              "      <th>Unnamed: 248</th>\n",
              "      <th>Unnamed: 249</th>\n",
              "      <th>Unnamed: 250</th>\n",
              "      <th>Unnamed: 251</th>\n",
              "      <th>Unnamed: 252</th>\n",
              "      <th>Unnamed: 253</th>\n",
              "    </tr>\n",
              "  </thead>\n",
              "  <tbody>\n",
              "    <tr>\n",
              "      <th>0</th>\n",
              "      <td>Wangula, Peter</td>\n",
              "      <td>1.412302e+09</td>\n",
              "      <td>28/12/1959</td>\n",
              "      <td>60.0</td>\n",
              "      <td>170</td>\n",
              "      <td>122/73</td>\n",
              "      <td>65</td>\n",
              "      <td>M</td>\n",
              "      <td>General Population\\n\\n</td>\n",
              "      <td>05/04/2017</td>\n",
              "      <td>...</td>\n",
              "      <td>NaN</td>\n",
              "      <td>NaN</td>\n",
              "      <td>NaN</td>\n",
              "      <td>NaN</td>\n",
              "      <td>NaN</td>\n",
              "      <td>NaN</td>\n",
              "      <td>NaN</td>\n",
              "      <td>NaN</td>\n",
              "      <td>NaN</td>\n",
              "      <td>NaN</td>\n",
              "    </tr>\n",
              "    <tr>\n",
              "      <th>1</th>\n",
              "      <td>Opiyo, Eunice</td>\n",
              "      <td>1.412302e+09</td>\n",
              "      <td>15/06/1992</td>\n",
              "      <td>60.0</td>\n",
              "      <td>163</td>\n",
              "      <td>111/70</td>\n",
              "      <td>33</td>\n",
              "      <td>F</td>\n",
              "      <td>General Population\\n\\n</td>\n",
              "      <td>03/05/2017</td>\n",
              "      <td>...</td>\n",
              "      <td>NaN</td>\n",
              "      <td>NaN</td>\n",
              "      <td>NaN</td>\n",
              "      <td>NaN</td>\n",
              "      <td>NaN</td>\n",
              "      <td>NaN</td>\n",
              "      <td>NaN</td>\n",
              "      <td>NaN</td>\n",
              "      <td>NaN</td>\n",
              "      <td>NaN</td>\n",
              "    </tr>\n",
              "    <tr>\n",
              "      <th>2</th>\n",
              "      <td>Ouma, Elizabeth</td>\n",
              "      <td>1.412302e+09</td>\n",
              "      <td>26/02/1962</td>\n",
              "      <td>65.5</td>\n",
              "      <td>161</td>\n",
              "      <td>107/67</td>\n",
              "      <td>63</td>\n",
              "      <td>F</td>\n",
              "      <td>General Population\\n\\n</td>\n",
              "      <td>06/03/2017</td>\n",
              "      <td>...</td>\n",
              "      <td>NaN</td>\n",
              "      <td>NaN</td>\n",
              "      <td>NaN</td>\n",
              "      <td>NaN</td>\n",
              "      <td>NaN</td>\n",
              "      <td>NaN</td>\n",
              "      <td>NaN</td>\n",
              "      <td>NaN</td>\n",
              "      <td>NaN</td>\n",
              "      <td>NaN</td>\n",
              "    </tr>\n",
              "    <tr>\n",
              "      <th>3</th>\n",
              "      <td>Juma, Josphine</td>\n",
              "      <td>1.412302e+09</td>\n",
              "      <td>05/07/1992</td>\n",
              "      <td>55.0</td>\n",
              "      <td>158</td>\n",
              "      <td>105/67</td>\n",
              "      <td>33</td>\n",
              "      <td>F</td>\n",
              "      <td>General Population\\n\\n</td>\n",
              "      <td>27/02/2017</td>\n",
              "      <td>...</td>\n",
              "      <td>NaN</td>\n",
              "      <td>NaN</td>\n",
              "      <td>NaN</td>\n",
              "      <td>NaN</td>\n",
              "      <td>NaN</td>\n",
              "      <td>NaN</td>\n",
              "      <td>NaN</td>\n",
              "      <td>NaN</td>\n",
              "      <td>NaN</td>\n",
              "      <td>NaN</td>\n",
              "    </tr>\n",
              "    <tr>\n",
              "      <th>4</th>\n",
              "      <td>Omondi, Margaret</td>\n",
              "      <td>1.412302e+09</td>\n",
              "      <td>01/07/1990</td>\n",
              "      <td>47.0</td>\n",
              "      <td>151</td>\n",
              "      <td>126/81</td>\n",
              "      <td>35</td>\n",
              "      <td>F</td>\n",
              "      <td>General Population\\n\\n</td>\n",
              "      <td>18/02/2017</td>\n",
              "      <td>...</td>\n",
              "      <td>NaN</td>\n",
              "      <td>NaN</td>\n",
              "      <td>NaN</td>\n",
              "      <td>NaN</td>\n",
              "      <td>NaN</td>\n",
              "      <td>NaN</td>\n",
              "      <td>NaN</td>\n",
              "      <td>NaN</td>\n",
              "      <td>NaN</td>\n",
              "      <td>NaN</td>\n",
              "    </tr>\n",
              "  </tbody>\n",
              "</table>\n",
              "<p>5 rows × 254 columns</p>\n",
              "</div>\n",
              "    <div class=\"colab-df-buttons\">\n",
              "\n",
              "  <div class=\"colab-df-container\">\n",
              "    <button class=\"colab-df-convert\" onclick=\"convertToInteractive('df-bb58c585-9763-4381-9c82-b6043db60e5d')\"\n",
              "            title=\"Convert this dataframe to an interactive table.\"\n",
              "            style=\"display:none;\">\n",
              "\n",
              "  <svg xmlns=\"http://www.w3.org/2000/svg\" height=\"24px\" viewBox=\"0 -960 960 960\">\n",
              "    <path d=\"M120-120v-720h720v720H120Zm60-500h600v-160H180v160Zm220 220h160v-160H400v160Zm0 220h160v-160H400v160ZM180-400h160v-160H180v160Zm440 0h160v-160H620v160ZM180-180h160v-160H180v160Zm440 0h160v-160H620v160Z\"/>\n",
              "  </svg>\n",
              "    </button>\n",
              "\n",
              "  <style>\n",
              "    .colab-df-container {\n",
              "      display:flex;\n",
              "      gap: 12px;\n",
              "    }\n",
              "\n",
              "    .colab-df-convert {\n",
              "      background-color: #E8F0FE;\n",
              "      border: none;\n",
              "      border-radius: 50%;\n",
              "      cursor: pointer;\n",
              "      display: none;\n",
              "      fill: #1967D2;\n",
              "      height: 32px;\n",
              "      padding: 0 0 0 0;\n",
              "      width: 32px;\n",
              "    }\n",
              "\n",
              "    .colab-df-convert:hover {\n",
              "      background-color: #E2EBFA;\n",
              "      box-shadow: 0px 1px 2px rgba(60, 64, 67, 0.3), 0px 1px 3px 1px rgba(60, 64, 67, 0.15);\n",
              "      fill: #174EA6;\n",
              "    }\n",
              "\n",
              "    .colab-df-buttons div {\n",
              "      margin-bottom: 4px;\n",
              "    }\n",
              "\n",
              "    [theme=dark] .colab-df-convert {\n",
              "      background-color: #3B4455;\n",
              "      fill: #D2E3FC;\n",
              "    }\n",
              "\n",
              "    [theme=dark] .colab-df-convert:hover {\n",
              "      background-color: #434B5C;\n",
              "      box-shadow: 0px 1px 3px 1px rgba(0, 0, 0, 0.15);\n",
              "      filter: drop-shadow(0px 1px 2px rgba(0, 0, 0, 0.3));\n",
              "      fill: #FFFFFF;\n",
              "    }\n",
              "  </style>\n",
              "\n",
              "    <script>\n",
              "      const buttonEl =\n",
              "        document.querySelector('#df-bb58c585-9763-4381-9c82-b6043db60e5d button.colab-df-convert');\n",
              "      buttonEl.style.display =\n",
              "        google.colab.kernel.accessAllowed ? 'block' : 'none';\n",
              "\n",
              "      async function convertToInteractive(key) {\n",
              "        const element = document.querySelector('#df-bb58c585-9763-4381-9c82-b6043db60e5d');\n",
              "        const dataTable =\n",
              "          await google.colab.kernel.invokeFunction('convertToInteractive',\n",
              "                                                    [key], {});\n",
              "        if (!dataTable) return;\n",
              "\n",
              "        const docLinkHtml = 'Like what you see? Visit the ' +\n",
              "          '<a target=\"_blank\" href=https://colab.research.google.com/notebooks/data_table.ipynb>data table notebook</a>'\n",
              "          + ' to learn more about interactive tables.';\n",
              "        element.innerHTML = '';\n",
              "        dataTable['output_type'] = 'display_data';\n",
              "        await google.colab.output.renderOutput(dataTable, element);\n",
              "        const docLink = document.createElement('div');\n",
              "        docLink.innerHTML = docLinkHtml;\n",
              "        element.appendChild(docLink);\n",
              "      }\n",
              "    </script>\n",
              "  </div>\n",
              "\n",
              "\n",
              "    <div id=\"df-7f727e05-ed61-4003-841d-92a9ddcaa5ca\">\n",
              "      <button class=\"colab-df-quickchart\" onclick=\"quickchart('df-7f727e05-ed61-4003-841d-92a9ddcaa5ca')\"\n",
              "                title=\"Suggest charts\"\n",
              "                style=\"display:none;\">\n",
              "\n",
              "<svg xmlns=\"http://www.w3.org/2000/svg\" height=\"24px\"viewBox=\"0 0 24 24\"\n",
              "     width=\"24px\">\n",
              "    <g>\n",
              "        <path d=\"M19 3H5c-1.1 0-2 .9-2 2v14c0 1.1.9 2 2 2h14c1.1 0 2-.9 2-2V5c0-1.1-.9-2-2-2zM9 17H7v-7h2v7zm4 0h-2V7h2v10zm4 0h-2v-4h2v4z\"/>\n",
              "    </g>\n",
              "</svg>\n",
              "      </button>\n",
              "\n",
              "<style>\n",
              "  .colab-df-quickchart {\n",
              "      --bg-color: #E8F0FE;\n",
              "      --fill-color: #1967D2;\n",
              "      --hover-bg-color: #E2EBFA;\n",
              "      --hover-fill-color: #174EA6;\n",
              "      --disabled-fill-color: #AAA;\n",
              "      --disabled-bg-color: #DDD;\n",
              "  }\n",
              "\n",
              "  [theme=dark] .colab-df-quickchart {\n",
              "      --bg-color: #3B4455;\n",
              "      --fill-color: #D2E3FC;\n",
              "      --hover-bg-color: #434B5C;\n",
              "      --hover-fill-color: #FFFFFF;\n",
              "      --disabled-bg-color: #3B4455;\n",
              "      --disabled-fill-color: #666;\n",
              "  }\n",
              "\n",
              "  .colab-df-quickchart {\n",
              "    background-color: var(--bg-color);\n",
              "    border: none;\n",
              "    border-radius: 50%;\n",
              "    cursor: pointer;\n",
              "    display: none;\n",
              "    fill: var(--fill-color);\n",
              "    height: 32px;\n",
              "    padding: 0;\n",
              "    width: 32px;\n",
              "  }\n",
              "\n",
              "  .colab-df-quickchart:hover {\n",
              "    background-color: var(--hover-bg-color);\n",
              "    box-shadow: 0 1px 2px rgba(60, 64, 67, 0.3), 0 1px 3px 1px rgba(60, 64, 67, 0.15);\n",
              "    fill: var(--button-hover-fill-color);\n",
              "  }\n",
              "\n",
              "  .colab-df-quickchart-complete:disabled,\n",
              "  .colab-df-quickchart-complete:disabled:hover {\n",
              "    background-color: var(--disabled-bg-color);\n",
              "    fill: var(--disabled-fill-color);\n",
              "    box-shadow: none;\n",
              "  }\n",
              "\n",
              "  .colab-df-spinner {\n",
              "    border: 2px solid var(--fill-color);\n",
              "    border-color: transparent;\n",
              "    border-bottom-color: var(--fill-color);\n",
              "    animation:\n",
              "      spin 1s steps(1) infinite;\n",
              "  }\n",
              "\n",
              "  @keyframes spin {\n",
              "    0% {\n",
              "      border-color: transparent;\n",
              "      border-bottom-color: var(--fill-color);\n",
              "      border-left-color: var(--fill-color);\n",
              "    }\n",
              "    20% {\n",
              "      border-color: transparent;\n",
              "      border-left-color: var(--fill-color);\n",
              "      border-top-color: var(--fill-color);\n",
              "    }\n",
              "    30% {\n",
              "      border-color: transparent;\n",
              "      border-left-color: var(--fill-color);\n",
              "      border-top-color: var(--fill-color);\n",
              "      border-right-color: var(--fill-color);\n",
              "    }\n",
              "    40% {\n",
              "      border-color: transparent;\n",
              "      border-right-color: var(--fill-color);\n",
              "      border-top-color: var(--fill-color);\n",
              "    }\n",
              "    60% {\n",
              "      border-color: transparent;\n",
              "      border-right-color: var(--fill-color);\n",
              "    }\n",
              "    80% {\n",
              "      border-color: transparent;\n",
              "      border-right-color: var(--fill-color);\n",
              "      border-bottom-color: var(--fill-color);\n",
              "    }\n",
              "    90% {\n",
              "      border-color: transparent;\n",
              "      border-bottom-color: var(--fill-color);\n",
              "    }\n",
              "  }\n",
              "</style>\n",
              "\n",
              "      <script>\n",
              "        async function quickchart(key) {\n",
              "          const quickchartButtonEl =\n",
              "            document.querySelector('#' + key + ' button');\n",
              "          quickchartButtonEl.disabled = true;  // To prevent multiple clicks.\n",
              "          quickchartButtonEl.classList.add('colab-df-spinner');\n",
              "          try {\n",
              "            const charts = await google.colab.kernel.invokeFunction(\n",
              "                'suggestCharts', [key], {});\n",
              "          } catch (error) {\n",
              "            console.error('Error during call to suggestCharts:', error);\n",
              "          }\n",
              "          quickchartButtonEl.classList.remove('colab-df-spinner');\n",
              "          quickchartButtonEl.classList.add('colab-df-quickchart-complete');\n",
              "        }\n",
              "        (() => {\n",
              "          let quickchartButtonEl =\n",
              "            document.querySelector('#df-7f727e05-ed61-4003-841d-92a9ddcaa5ca button');\n",
              "          quickchartButtonEl.style.display =\n",
              "            google.colab.kernel.accessAllowed ? 'block' : 'none';\n",
              "        })();\n",
              "      </script>\n",
              "    </div>\n",
              "\n",
              "    </div>\n",
              "  </div>\n"
            ],
            "application/vnd.google.colaboratory.intrinsic+json": {
              "type": "dataframe",
              "variable_name": "df"
            }
          },
          "metadata": {},
          "execution_count": 3
        }
      ],
      "source": [
        "# Import libraries\n",
        "import pandas as pd\n",
        "import numpy as np\n",
        "import matplotlib.pyplot as plt\n",
        "import seaborn as sns\n",
        "\n",
        "# Load the dataset\n",
        "df = pd.read_csv(\"/content/PMTCT Active on ART Patients Linelist_Sep-2025 (1).csv\")\n",
        "\n",
        "# Format column names: strip spaces, title case\n",
        "df.columns = df.columns.astype(str).str.strip().str.replace('_', ' ').str.replace(r'\\s+', ' ', regex=True).str.title()\n",
        "df.head()\n"
      ]
    },
    {
      "cell_type": "code",
      "source": [
        "df.shape"
      ],
      "metadata": {
        "colab": {
          "base_uri": "https://localhost:8080/"
        },
        "id": "gox6x-zFiUqD",
        "outputId": "d5e3d630-7dc7-45bd-eb50-c284ccd606f1"
      },
      "execution_count": null,
      "outputs": [
        {
          "output_type": "execute_result",
          "data": {
            "text/plain": [
              "(818, 254)"
            ]
          },
          "metadata": {},
          "execution_count": 3
        }
      ]
    },
    {
      "cell_type": "code",
      "source": [
        "df.dtypes"
      ],
      "metadata": {
        "colab": {
          "base_uri": "https://localhost:8080/",
          "height": 458
        },
        "id": "xDEgm_uJiV13",
        "outputId": "c928c967-a76b-4b45-e535-144ba7224d3b"
      },
      "execution_count": null,
      "outputs": [
        {
          "output_type": "execute_result",
          "data": {
            "text/plain": [
              "Name             object\n",
              "Ccc No          float64\n",
              "Dob              object\n",
              "Weight          float64\n",
              "Height            int64\n",
              "                 ...   \n",
              "Unnamed: 249    float64\n",
              "Unnamed: 250    float64\n",
              "Unnamed: 251    float64\n",
              "Unnamed: 252    float64\n",
              "Unnamed: 253    float64\n",
              "Length: 254, dtype: object"
            ],
            "text/html": [
              "<div>\n",
              "<style scoped>\n",
              "    .dataframe tbody tr th:only-of-type {\n",
              "        vertical-align: middle;\n",
              "    }\n",
              "\n",
              "    .dataframe tbody tr th {\n",
              "        vertical-align: top;\n",
              "    }\n",
              "\n",
              "    .dataframe thead th {\n",
              "        text-align: right;\n",
              "    }\n",
              "</style>\n",
              "<table border=\"1\" class=\"dataframe\">\n",
              "  <thead>\n",
              "    <tr style=\"text-align: right;\">\n",
              "      <th></th>\n",
              "      <th>0</th>\n",
              "    </tr>\n",
              "  </thead>\n",
              "  <tbody>\n",
              "    <tr>\n",
              "      <th>Name</th>\n",
              "      <td>object</td>\n",
              "    </tr>\n",
              "    <tr>\n",
              "      <th>Ccc No</th>\n",
              "      <td>float64</td>\n",
              "    </tr>\n",
              "    <tr>\n",
              "      <th>Dob</th>\n",
              "      <td>object</td>\n",
              "    </tr>\n",
              "    <tr>\n",
              "      <th>Weight</th>\n",
              "      <td>float64</td>\n",
              "    </tr>\n",
              "    <tr>\n",
              "      <th>Height</th>\n",
              "      <td>int64</td>\n",
              "    </tr>\n",
              "    <tr>\n",
              "      <th>...</th>\n",
              "      <td>...</td>\n",
              "    </tr>\n",
              "    <tr>\n",
              "      <th>Unnamed: 249</th>\n",
              "      <td>float64</td>\n",
              "    </tr>\n",
              "    <tr>\n",
              "      <th>Unnamed: 250</th>\n",
              "      <td>float64</td>\n",
              "    </tr>\n",
              "    <tr>\n",
              "      <th>Unnamed: 251</th>\n",
              "      <td>float64</td>\n",
              "    </tr>\n",
              "    <tr>\n",
              "      <th>Unnamed: 252</th>\n",
              "      <td>float64</td>\n",
              "    </tr>\n",
              "    <tr>\n",
              "      <th>Unnamed: 253</th>\n",
              "      <td>float64</td>\n",
              "    </tr>\n",
              "  </tbody>\n",
              "</table>\n",
              "<p>254 rows × 1 columns</p>\n",
              "</div><br><label><b>dtype:</b> object</label>"
            ]
          },
          "metadata": {},
          "execution_count": 4
        }
      ]
    },
    {
      "cell_type": "code",
      "source": [
        "df.info()"
      ],
      "metadata": {
        "colab": {
          "base_uri": "https://localhost:8080/"
        },
        "id": "9lgO9LEtikbX",
        "outputId": "55d001ae-e61d-4f3e-f77b-f788ce49b4e0"
      },
      "execution_count": null,
      "outputs": [
        {
          "output_type": "stream",
          "name": "stdout",
          "text": [
            "<class 'pandas.core.frame.DataFrame'>\n",
            "RangeIndex: 818 entries, 0 to 817\n",
            "Columns: 254 entries, Name to Unnamed: 253\n",
            "dtypes: float64(205), int64(4), object(45)\n",
            "memory usage: 1.6+ MB\n"
          ]
        }
      ]
    },
    {
      "cell_type": "code",
      "source": [
        "df.columns"
      ],
      "metadata": {
        "colab": {
          "base_uri": "https://localhost:8080/"
        },
        "id": "xPnjByVbin2r",
        "outputId": "66a50b43-d332-4ecb-d997-aaaead788cec"
      },
      "execution_count": null,
      "outputs": [
        {
          "output_type": "execute_result",
          "data": {
            "text/plain": [
              "Index(['Name', 'Ccc No', 'Dob', 'Weight', 'Height', 'Blood Pressure',\n",
              "       'Age At Reporting', 'Sex', 'Population Type',\n",
              "       'Date Confirmed Hiv Positive',\n",
              "       ...\n",
              "       'Unnamed: 244', 'Unnamed: 245', 'Unnamed: 246', 'Unnamed: 247',\n",
              "       'Unnamed: 248', 'Unnamed: 249', 'Unnamed: 250', 'Unnamed: 251',\n",
              "       'Unnamed: 252', 'Unnamed: 253'],\n",
              "      dtype='object', length=254)"
            ]
          },
          "metadata": {},
          "execution_count": 4
        }
      ]
    },
    {
      "cell_type": "code",
      "source": [
        "df.describe()"
      ],
      "metadata": {
        "colab": {
          "base_uri": "https://localhost:8080/",
          "height": 384
        },
        "id": "9FjeVvfIissM",
        "outputId": "692aeb03-77b1-4a03-f807-08482a4418f9"
      },
      "execution_count": null,
      "outputs": [
        {
          "output_type": "execute_result",
          "data": {
            "text/plain": [
              "             Ccc No      Weight      Height  Age At Reporting  Last Who Stage  \\\n",
              "count  8.180000e+02  818.000000  818.000000        818.000000      818.000000   \n",
              "mean   1.460674e+09   62.798289  164.490220         45.596577        1.014670   \n",
              "std    4.449510e+08   14.390947    8.897652         13.868983        0.170764   \n",
              "min    1.100000e+08   21.000000  124.000000          9.000000        1.000000   \n",
              "25%    1.412301e+09   53.350000  159.000000         37.000000        1.000000   \n",
              "50%    1.412302e+09   61.000000  164.000000         45.000000        1.000000   \n",
              "75%    1.412302e+09   70.000000  170.000000         54.750000        1.000000   \n",
              "max    7.521902e+09  130.000000  198.000000         86.000000        4.000000   \n",
              "\n",
              "       Months Of Prescription  Last Risk Score  Unnamed: 52  Unnamed: 53  \\\n",
              "count              818.000000            816.0          0.0          0.0   \n",
              "mean                 3.462103              0.0          NaN          NaN   \n",
              "std                  1.935725              0.0          NaN          NaN   \n",
              "min                  0.000000              0.0          NaN          NaN   \n",
              "25%                  2.000000              0.0          NaN          NaN   \n",
              "50%                  3.000000              0.0          NaN          NaN   \n",
              "75%                  5.000000              0.0          NaN          NaN   \n",
              "max                 17.000000              0.0          NaN          NaN   \n",
              "\n",
              "       Unnamed: 54  ...  Unnamed: 244  Unnamed: 245  Unnamed: 246  \\\n",
              "count          0.0  ...           0.0           0.0           0.0   \n",
              "mean           NaN  ...           NaN           NaN           NaN   \n",
              "std            NaN  ...           NaN           NaN           NaN   \n",
              "min            NaN  ...           NaN           NaN           NaN   \n",
              "25%            NaN  ...           NaN           NaN           NaN   \n",
              "50%            NaN  ...           NaN           NaN           NaN   \n",
              "75%            NaN  ...           NaN           NaN           NaN   \n",
              "max            NaN  ...           NaN           NaN           NaN   \n",
              "\n",
              "       Unnamed: 247  Unnamed: 248  Unnamed: 249  Unnamed: 250  Unnamed: 251  \\\n",
              "count           0.0           0.0           0.0           0.0           0.0   \n",
              "mean            NaN           NaN           NaN           NaN           NaN   \n",
              "std             NaN           NaN           NaN           NaN           NaN   \n",
              "min             NaN           NaN           NaN           NaN           NaN   \n",
              "25%             NaN           NaN           NaN           NaN           NaN   \n",
              "50%             NaN           NaN           NaN           NaN           NaN   \n",
              "75%             NaN           NaN           NaN           NaN           NaN   \n",
              "max             NaN           NaN           NaN           NaN           NaN   \n",
              "\n",
              "       Unnamed: 252  Unnamed: 253  \n",
              "count           0.0           0.0  \n",
              "mean            NaN           NaN  \n",
              "std             NaN           NaN  \n",
              "min             NaN           NaN  \n",
              "25%             NaN           NaN  \n",
              "50%             NaN           NaN  \n",
              "75%             NaN           NaN  \n",
              "max             NaN           NaN  \n",
              "\n",
              "[8 rows x 209 columns]"
            ],
            "text/html": [
              "\n",
              "  <div id=\"df-95723be9-5967-44b1-8ed7-134cf8cad5e2\" class=\"colab-df-container\">\n",
              "    <div>\n",
              "<style scoped>\n",
              "    .dataframe tbody tr th:only-of-type {\n",
              "        vertical-align: middle;\n",
              "    }\n",
              "\n",
              "    .dataframe tbody tr th {\n",
              "        vertical-align: top;\n",
              "    }\n",
              "\n",
              "    .dataframe thead th {\n",
              "        text-align: right;\n",
              "    }\n",
              "</style>\n",
              "<table border=\"1\" class=\"dataframe\">\n",
              "  <thead>\n",
              "    <tr style=\"text-align: right;\">\n",
              "      <th></th>\n",
              "      <th>Ccc No</th>\n",
              "      <th>Weight</th>\n",
              "      <th>Height</th>\n",
              "      <th>Age At Reporting</th>\n",
              "      <th>Last Who Stage</th>\n",
              "      <th>Months Of Prescription</th>\n",
              "      <th>Last Risk Score</th>\n",
              "      <th>Unnamed: 52</th>\n",
              "      <th>Unnamed: 53</th>\n",
              "      <th>Unnamed: 54</th>\n",
              "      <th>...</th>\n",
              "      <th>Unnamed: 244</th>\n",
              "      <th>Unnamed: 245</th>\n",
              "      <th>Unnamed: 246</th>\n",
              "      <th>Unnamed: 247</th>\n",
              "      <th>Unnamed: 248</th>\n",
              "      <th>Unnamed: 249</th>\n",
              "      <th>Unnamed: 250</th>\n",
              "      <th>Unnamed: 251</th>\n",
              "      <th>Unnamed: 252</th>\n",
              "      <th>Unnamed: 253</th>\n",
              "    </tr>\n",
              "  </thead>\n",
              "  <tbody>\n",
              "    <tr>\n",
              "      <th>count</th>\n",
              "      <td>8.180000e+02</td>\n",
              "      <td>818.000000</td>\n",
              "      <td>818.000000</td>\n",
              "      <td>818.000000</td>\n",
              "      <td>818.000000</td>\n",
              "      <td>818.000000</td>\n",
              "      <td>816.0</td>\n",
              "      <td>0.0</td>\n",
              "      <td>0.0</td>\n",
              "      <td>0.0</td>\n",
              "      <td>...</td>\n",
              "      <td>0.0</td>\n",
              "      <td>0.0</td>\n",
              "      <td>0.0</td>\n",
              "      <td>0.0</td>\n",
              "      <td>0.0</td>\n",
              "      <td>0.0</td>\n",
              "      <td>0.0</td>\n",
              "      <td>0.0</td>\n",
              "      <td>0.0</td>\n",
              "      <td>0.0</td>\n",
              "    </tr>\n",
              "    <tr>\n",
              "      <th>mean</th>\n",
              "      <td>1.460674e+09</td>\n",
              "      <td>62.798289</td>\n",
              "      <td>164.490220</td>\n",
              "      <td>45.596577</td>\n",
              "      <td>1.014670</td>\n",
              "      <td>3.462103</td>\n",
              "      <td>0.0</td>\n",
              "      <td>NaN</td>\n",
              "      <td>NaN</td>\n",
              "      <td>NaN</td>\n",
              "      <td>...</td>\n",
              "      <td>NaN</td>\n",
              "      <td>NaN</td>\n",
              "      <td>NaN</td>\n",
              "      <td>NaN</td>\n",
              "      <td>NaN</td>\n",
              "      <td>NaN</td>\n",
              "      <td>NaN</td>\n",
              "      <td>NaN</td>\n",
              "      <td>NaN</td>\n",
              "      <td>NaN</td>\n",
              "    </tr>\n",
              "    <tr>\n",
              "      <th>std</th>\n",
              "      <td>4.449510e+08</td>\n",
              "      <td>14.390947</td>\n",
              "      <td>8.897652</td>\n",
              "      <td>13.868983</td>\n",
              "      <td>0.170764</td>\n",
              "      <td>1.935725</td>\n",
              "      <td>0.0</td>\n",
              "      <td>NaN</td>\n",
              "      <td>NaN</td>\n",
              "      <td>NaN</td>\n",
              "      <td>...</td>\n",
              "      <td>NaN</td>\n",
              "      <td>NaN</td>\n",
              "      <td>NaN</td>\n",
              "      <td>NaN</td>\n",
              "      <td>NaN</td>\n",
              "      <td>NaN</td>\n",
              "      <td>NaN</td>\n",
              "      <td>NaN</td>\n",
              "      <td>NaN</td>\n",
              "      <td>NaN</td>\n",
              "    </tr>\n",
              "    <tr>\n",
              "      <th>min</th>\n",
              "      <td>1.100000e+08</td>\n",
              "      <td>21.000000</td>\n",
              "      <td>124.000000</td>\n",
              "      <td>9.000000</td>\n",
              "      <td>1.000000</td>\n",
              "      <td>0.000000</td>\n",
              "      <td>0.0</td>\n",
              "      <td>NaN</td>\n",
              "      <td>NaN</td>\n",
              "      <td>NaN</td>\n",
              "      <td>...</td>\n",
              "      <td>NaN</td>\n",
              "      <td>NaN</td>\n",
              "      <td>NaN</td>\n",
              "      <td>NaN</td>\n",
              "      <td>NaN</td>\n",
              "      <td>NaN</td>\n",
              "      <td>NaN</td>\n",
              "      <td>NaN</td>\n",
              "      <td>NaN</td>\n",
              "      <td>NaN</td>\n",
              "    </tr>\n",
              "    <tr>\n",
              "      <th>25%</th>\n",
              "      <td>1.412301e+09</td>\n",
              "      <td>53.350000</td>\n",
              "      <td>159.000000</td>\n",
              "      <td>37.000000</td>\n",
              "      <td>1.000000</td>\n",
              "      <td>2.000000</td>\n",
              "      <td>0.0</td>\n",
              "      <td>NaN</td>\n",
              "      <td>NaN</td>\n",
              "      <td>NaN</td>\n",
              "      <td>...</td>\n",
              "      <td>NaN</td>\n",
              "      <td>NaN</td>\n",
              "      <td>NaN</td>\n",
              "      <td>NaN</td>\n",
              "      <td>NaN</td>\n",
              "      <td>NaN</td>\n",
              "      <td>NaN</td>\n",
              "      <td>NaN</td>\n",
              "      <td>NaN</td>\n",
              "      <td>NaN</td>\n",
              "    </tr>\n",
              "    <tr>\n",
              "      <th>50%</th>\n",
              "      <td>1.412302e+09</td>\n",
              "      <td>61.000000</td>\n",
              "      <td>164.000000</td>\n",
              "      <td>45.000000</td>\n",
              "      <td>1.000000</td>\n",
              "      <td>3.000000</td>\n",
              "      <td>0.0</td>\n",
              "      <td>NaN</td>\n",
              "      <td>NaN</td>\n",
              "      <td>NaN</td>\n",
              "      <td>...</td>\n",
              "      <td>NaN</td>\n",
              "      <td>NaN</td>\n",
              "      <td>NaN</td>\n",
              "      <td>NaN</td>\n",
              "      <td>NaN</td>\n",
              "      <td>NaN</td>\n",
              "      <td>NaN</td>\n",
              "      <td>NaN</td>\n",
              "      <td>NaN</td>\n",
              "      <td>NaN</td>\n",
              "    </tr>\n",
              "    <tr>\n",
              "      <th>75%</th>\n",
              "      <td>1.412302e+09</td>\n",
              "      <td>70.000000</td>\n",
              "      <td>170.000000</td>\n",
              "      <td>54.750000</td>\n",
              "      <td>1.000000</td>\n",
              "      <td>5.000000</td>\n",
              "      <td>0.0</td>\n",
              "      <td>NaN</td>\n",
              "      <td>NaN</td>\n",
              "      <td>NaN</td>\n",
              "      <td>...</td>\n",
              "      <td>NaN</td>\n",
              "      <td>NaN</td>\n",
              "      <td>NaN</td>\n",
              "      <td>NaN</td>\n",
              "      <td>NaN</td>\n",
              "      <td>NaN</td>\n",
              "      <td>NaN</td>\n",
              "      <td>NaN</td>\n",
              "      <td>NaN</td>\n",
              "      <td>NaN</td>\n",
              "    </tr>\n",
              "    <tr>\n",
              "      <th>max</th>\n",
              "      <td>7.521902e+09</td>\n",
              "      <td>130.000000</td>\n",
              "      <td>198.000000</td>\n",
              "      <td>86.000000</td>\n",
              "      <td>4.000000</td>\n",
              "      <td>17.000000</td>\n",
              "      <td>0.0</td>\n",
              "      <td>NaN</td>\n",
              "      <td>NaN</td>\n",
              "      <td>NaN</td>\n",
              "      <td>...</td>\n",
              "      <td>NaN</td>\n",
              "      <td>NaN</td>\n",
              "      <td>NaN</td>\n",
              "      <td>NaN</td>\n",
              "      <td>NaN</td>\n",
              "      <td>NaN</td>\n",
              "      <td>NaN</td>\n",
              "      <td>NaN</td>\n",
              "      <td>NaN</td>\n",
              "      <td>NaN</td>\n",
              "    </tr>\n",
              "  </tbody>\n",
              "</table>\n",
              "<p>8 rows × 209 columns</p>\n",
              "</div>\n",
              "    <div class=\"colab-df-buttons\">\n",
              "\n",
              "  <div class=\"colab-df-container\">\n",
              "    <button class=\"colab-df-convert\" onclick=\"convertToInteractive('df-95723be9-5967-44b1-8ed7-134cf8cad5e2')\"\n",
              "            title=\"Convert this dataframe to an interactive table.\"\n",
              "            style=\"display:none;\">\n",
              "\n",
              "  <svg xmlns=\"http://www.w3.org/2000/svg\" height=\"24px\" viewBox=\"0 -960 960 960\">\n",
              "    <path d=\"M120-120v-720h720v720H120Zm60-500h600v-160H180v160Zm220 220h160v-160H400v160Zm0 220h160v-160H400v160ZM180-400h160v-160H180v160Zm440 0h160v-160H620v160ZM180-180h160v-160H180v160Zm440 0h160v-160H620v160Z\"/>\n",
              "  </svg>\n",
              "    </button>\n",
              "\n",
              "  <style>\n",
              "    .colab-df-container {\n",
              "      display:flex;\n",
              "      gap: 12px;\n",
              "    }\n",
              "\n",
              "    .colab-df-convert {\n",
              "      background-color: #E8F0FE;\n",
              "      border: none;\n",
              "      border-radius: 50%;\n",
              "      cursor: pointer;\n",
              "      display: none;\n",
              "      fill: #1967D2;\n",
              "      height: 32px;\n",
              "      padding: 0 0 0 0;\n",
              "      width: 32px;\n",
              "    }\n",
              "\n",
              "    .colab-df-convert:hover {\n",
              "      background-color: #E2EBFA;\n",
              "      box-shadow: 0px 1px 2px rgba(60, 64, 67, 0.3), 0px 1px 3px 1px rgba(60, 64, 67, 0.15);\n",
              "      fill: #174EA6;\n",
              "    }\n",
              "\n",
              "    .colab-df-buttons div {\n",
              "      margin-bottom: 4px;\n",
              "    }\n",
              "\n",
              "    [theme=dark] .colab-df-convert {\n",
              "      background-color: #3B4455;\n",
              "      fill: #D2E3FC;\n",
              "    }\n",
              "\n",
              "    [theme=dark] .colab-df-convert:hover {\n",
              "      background-color: #434B5C;\n",
              "      box-shadow: 0px 1px 3px 1px rgba(0, 0, 0, 0.15);\n",
              "      filter: drop-shadow(0px 1px 2px rgba(0, 0, 0, 0.3));\n",
              "      fill: #FFFFFF;\n",
              "    }\n",
              "  </style>\n",
              "\n",
              "    <script>\n",
              "      const buttonEl =\n",
              "        document.querySelector('#df-95723be9-5967-44b1-8ed7-134cf8cad5e2 button.colab-df-convert');\n",
              "      buttonEl.style.display =\n",
              "        google.colab.kernel.accessAllowed ? 'block' : 'none';\n",
              "\n",
              "      async function convertToInteractive(key) {\n",
              "        const element = document.querySelector('#df-95723be9-5967-44b1-8ed7-134cf8cad5e2');\n",
              "        const dataTable =\n",
              "          await google.colab.kernel.invokeFunction('convertToInteractive',\n",
              "                                                    [key], {});\n",
              "        if (!dataTable) return;\n",
              "\n",
              "        const docLinkHtml = 'Like what you see? Visit the ' +\n",
              "          '<a target=\"_blank\" href=https://colab.research.google.com/notebooks/data_table.ipynb>data table notebook</a>'\n",
              "          + ' to learn more about interactive tables.';\n",
              "        element.innerHTML = '';\n",
              "        dataTable['output_type'] = 'display_data';\n",
              "        await google.colab.output.renderOutput(dataTable, element);\n",
              "        const docLink = document.createElement('div');\n",
              "        docLink.innerHTML = docLinkHtml;\n",
              "        element.appendChild(docLink);\n",
              "      }\n",
              "    </script>\n",
              "  </div>\n",
              "\n",
              "\n",
              "    <div id=\"df-019dc6da-2e96-4406-b9e9-9f15642bc307\">\n",
              "      <button class=\"colab-df-quickchart\" onclick=\"quickchart('df-019dc6da-2e96-4406-b9e9-9f15642bc307')\"\n",
              "                title=\"Suggest charts\"\n",
              "                style=\"display:none;\">\n",
              "\n",
              "<svg xmlns=\"http://www.w3.org/2000/svg\" height=\"24px\"viewBox=\"0 0 24 24\"\n",
              "     width=\"24px\">\n",
              "    <g>\n",
              "        <path d=\"M19 3H5c-1.1 0-2 .9-2 2v14c0 1.1.9 2 2 2h14c1.1 0 2-.9 2-2V5c0-1.1-.9-2-2-2zM9 17H7v-7h2v7zm4 0h-2V7h2v10zm4 0h-2v-4h2v4z\"/>\n",
              "    </g>\n",
              "</svg>\n",
              "      </button>\n",
              "\n",
              "<style>\n",
              "  .colab-df-quickchart {\n",
              "      --bg-color: #E8F0FE;\n",
              "      --fill-color: #1967D2;\n",
              "      --hover-bg-color: #E2EBFA;\n",
              "      --hover-fill-color: #174EA6;\n",
              "      --disabled-fill-color: #AAA;\n",
              "      --disabled-bg-color: #DDD;\n",
              "  }\n",
              "\n",
              "  [theme=dark] .colab-df-quickchart {\n",
              "      --bg-color: #3B4455;\n",
              "      --fill-color: #D2E3FC;\n",
              "      --hover-bg-color: #434B5C;\n",
              "      --hover-fill-color: #FFFFFF;\n",
              "      --disabled-bg-color: #3B4455;\n",
              "      --disabled-fill-color: #666;\n",
              "  }\n",
              "\n",
              "  .colab-df-quickchart {\n",
              "    background-color: var(--bg-color);\n",
              "    border: none;\n",
              "    border-radius: 50%;\n",
              "    cursor: pointer;\n",
              "    display: none;\n",
              "    fill: var(--fill-color);\n",
              "    height: 32px;\n",
              "    padding: 0;\n",
              "    width: 32px;\n",
              "  }\n",
              "\n",
              "  .colab-df-quickchart:hover {\n",
              "    background-color: var(--hover-bg-color);\n",
              "    box-shadow: 0 1px 2px rgba(60, 64, 67, 0.3), 0 1px 3px 1px rgba(60, 64, 67, 0.15);\n",
              "    fill: var(--button-hover-fill-color);\n",
              "  }\n",
              "\n",
              "  .colab-df-quickchart-complete:disabled,\n",
              "  .colab-df-quickchart-complete:disabled:hover {\n",
              "    background-color: var(--disabled-bg-color);\n",
              "    fill: var(--disabled-fill-color);\n",
              "    box-shadow: none;\n",
              "  }\n",
              "\n",
              "  .colab-df-spinner {\n",
              "    border: 2px solid var(--fill-color);\n",
              "    border-color: transparent;\n",
              "    border-bottom-color: var(--fill-color);\n",
              "    animation:\n",
              "      spin 1s steps(1) infinite;\n",
              "  }\n",
              "\n",
              "  @keyframes spin {\n",
              "    0% {\n",
              "      border-color: transparent;\n",
              "      border-bottom-color: var(--fill-color);\n",
              "      border-left-color: var(--fill-color);\n",
              "    }\n",
              "    20% {\n",
              "      border-color: transparent;\n",
              "      border-left-color: var(--fill-color);\n",
              "      border-top-color: var(--fill-color);\n",
              "    }\n",
              "    30% {\n",
              "      border-color: transparent;\n",
              "      border-left-color: var(--fill-color);\n",
              "      border-top-color: var(--fill-color);\n",
              "      border-right-color: var(--fill-color);\n",
              "    }\n",
              "    40% {\n",
              "      border-color: transparent;\n",
              "      border-right-color: var(--fill-color);\n",
              "      border-top-color: var(--fill-color);\n",
              "    }\n",
              "    60% {\n",
              "      border-color: transparent;\n",
              "      border-right-color: var(--fill-color);\n",
              "    }\n",
              "    80% {\n",
              "      border-color: transparent;\n",
              "      border-right-color: var(--fill-color);\n",
              "      border-bottom-color: var(--fill-color);\n",
              "    }\n",
              "    90% {\n",
              "      border-color: transparent;\n",
              "      border-bottom-color: var(--fill-color);\n",
              "    }\n",
              "  }\n",
              "</style>\n",
              "\n",
              "      <script>\n",
              "        async function quickchart(key) {\n",
              "          const quickchartButtonEl =\n",
              "            document.querySelector('#' + key + ' button');\n",
              "          quickchartButtonEl.disabled = true;  // To prevent multiple clicks.\n",
              "          quickchartButtonEl.classList.add('colab-df-spinner');\n",
              "          try {\n",
              "            const charts = await google.colab.kernel.invokeFunction(\n",
              "                'suggestCharts', [key], {});\n",
              "          } catch (error) {\n",
              "            console.error('Error during call to suggestCharts:', error);\n",
              "          }\n",
              "          quickchartButtonEl.classList.remove('colab-df-spinner');\n",
              "          quickchartButtonEl.classList.add('colab-df-quickchart-complete');\n",
              "        }\n",
              "        (() => {\n",
              "          let quickchartButtonEl =\n",
              "            document.querySelector('#df-019dc6da-2e96-4406-b9e9-9f15642bc307 button');\n",
              "          quickchartButtonEl.style.display =\n",
              "            google.colab.kernel.accessAllowed ? 'block' : 'none';\n",
              "        })();\n",
              "      </script>\n",
              "    </div>\n",
              "\n",
              "    </div>\n",
              "  </div>\n"
            ],
            "application/vnd.google.colaboratory.intrinsic+json": {
              "type": "dataframe"
            }
          },
          "metadata": {},
          "execution_count": 5
        }
      ]
    },
    {
      "cell_type": "code",
      "source": [
        "df.isna().sum()"
      ],
      "metadata": {
        "colab": {
          "base_uri": "https://localhost:8080/",
          "height": 458
        },
        "id": "3H9PEpBJiyno",
        "outputId": "3712ae1b-115e-429b-e493-a5d8e44af739"
      },
      "execution_count": null,
      "outputs": [
        {
          "output_type": "execute_result",
          "data": {
            "text/plain": [
              "Name              0\n",
              "Ccc No            0\n",
              "Dob               0\n",
              "Weight            0\n",
              "Height            0\n",
              "               ... \n",
              "Unnamed: 249    818\n",
              "Unnamed: 250    818\n",
              "Unnamed: 251    818\n",
              "Unnamed: 252    818\n",
              "Unnamed: 253    818\n",
              "Length: 254, dtype: int64"
            ],
            "text/html": [
              "<div>\n",
              "<style scoped>\n",
              "    .dataframe tbody tr th:only-of-type {\n",
              "        vertical-align: middle;\n",
              "    }\n",
              "\n",
              "    .dataframe tbody tr th {\n",
              "        vertical-align: top;\n",
              "    }\n",
              "\n",
              "    .dataframe thead th {\n",
              "        text-align: right;\n",
              "    }\n",
              "</style>\n",
              "<table border=\"1\" class=\"dataframe\">\n",
              "  <thead>\n",
              "    <tr style=\"text-align: right;\">\n",
              "      <th></th>\n",
              "      <th>0</th>\n",
              "    </tr>\n",
              "  </thead>\n",
              "  <tbody>\n",
              "    <tr>\n",
              "      <th>Name</th>\n",
              "      <td>0</td>\n",
              "    </tr>\n",
              "    <tr>\n",
              "      <th>Ccc No</th>\n",
              "      <td>0</td>\n",
              "    </tr>\n",
              "    <tr>\n",
              "      <th>Dob</th>\n",
              "      <td>0</td>\n",
              "    </tr>\n",
              "    <tr>\n",
              "      <th>Weight</th>\n",
              "      <td>0</td>\n",
              "    </tr>\n",
              "    <tr>\n",
              "      <th>Height</th>\n",
              "      <td>0</td>\n",
              "    </tr>\n",
              "    <tr>\n",
              "      <th>...</th>\n",
              "      <td>...</td>\n",
              "    </tr>\n",
              "    <tr>\n",
              "      <th>Unnamed: 249</th>\n",
              "      <td>818</td>\n",
              "    </tr>\n",
              "    <tr>\n",
              "      <th>Unnamed: 250</th>\n",
              "      <td>818</td>\n",
              "    </tr>\n",
              "    <tr>\n",
              "      <th>Unnamed: 251</th>\n",
              "      <td>818</td>\n",
              "    </tr>\n",
              "    <tr>\n",
              "      <th>Unnamed: 252</th>\n",
              "      <td>818</td>\n",
              "    </tr>\n",
              "    <tr>\n",
              "      <th>Unnamed: 253</th>\n",
              "      <td>818</td>\n",
              "    </tr>\n",
              "  </tbody>\n",
              "</table>\n",
              "<p>254 rows × 1 columns</p>\n",
              "</div><br><label><b>dtype:</b> int64</label>"
            ]
          },
          "metadata": {},
          "execution_count": 6
        }
      ]
    },
    {
      "cell_type": "markdown",
      "source": [
        "step 2: Data Cleaning"
      ],
      "metadata": {
        "id": "liVSFT8NjkaC"
      }
    },
    {
      "cell_type": "code",
      "source": [
        "# Drop personal identifiers\n",
        "drop_cols = ['Name', 'Ccc No', 'Dob', 'Phone Number', 'Facility Name', 'Mfl Code']\n",
        "df = df.drop(columns=[col for col in drop_cols if col in df.columns])"
      ],
      "metadata": {
        "id": "LyPmTegni7x4"
      },
      "execution_count": null,
      "outputs": []
    },
    {
      "cell_type": "code",
      "source": [
        "# Convert date columns to datetime\n",
        "date_cols = ['Art Start Date', 'Last Visit Date', 'Next Appointment Date', 'Date Confirmed Hiv Positive']\n",
        "for col in date_cols:\n",
        "    if col in df.columns:\n",
        "        df[col] = pd.to_datetime(df[col], errors='coerce')"
      ],
      "metadata": {
        "colab": {
          "base_uri": "https://localhost:8080/"
        },
        "id": "tBFbwLEgkP4v",
        "outputId": "f0c0b8e6-d444-4697-eedc-5a0a7f5ccd07"
      },
      "execution_count": null,
      "outputs": [
        {
          "output_type": "stream",
          "name": "stderr",
          "text": [
            "/tmp/ipython-input-2920533842.py:5: UserWarning: Parsing dates in %d/%m/%Y format when dayfirst=False (the default) was specified. Pass `dayfirst=True` or specify a format to silence this warning.\n",
            "  df[col] = pd.to_datetime(df[col], errors='coerce')\n",
            "/tmp/ipython-input-2920533842.py:5: UserWarning: Parsing dates in %d/%m/%Y format when dayfirst=False (the default) was specified. Pass `dayfirst=True` or specify a format to silence this warning.\n",
            "  df[col] = pd.to_datetime(df[col], errors='coerce')\n"
          ]
        }
      ]
    },
    {
      "cell_type": "code",
      "source": [
        "# Drop columns with >80% missing values\n",
        "threshold = 0.8 * len(df)\n",
        "df = df.dropna(axis=1, thresh=threshold)"
      ],
      "metadata": {
        "id": "T9-67EVbkY1y"
      },
      "execution_count": null,
      "outputs": []
    },
    {
      "cell_type": "code",
      "source": [
        "# Preview cleaned shape and columns\n",
        "print(\"Cleaned Shape:\", df.shape)\n",
        "print(\"\\nRemaining Columns:\\n\", df.columns.tolist())"
      ],
      "metadata": {
        "colab": {
          "base_uri": "https://localhost:8080/"
        },
        "id": "MWCs_KIpkjzz",
        "outputId": "e76b1293-cd29-4237-c3d0-542ae113367c"
      },
      "execution_count": null,
      "outputs": [
        {
          "output_type": "stream",
          "name": "stdout",
          "text": [
            "Cleaned Shape: (818, 35)\n",
            "\n",
            "Remaining Columns:\n",
            " ['Weight', 'Height', 'Blood Pressure', 'Age At Reporting', 'Sex', 'Population Type', 'Date Enrolled In Hiv', 'First Regimen', 'Current Regimen', 'Current Regimen Line', 'Last Who Stage', 'Last Who Stage Date', 'Last Vl', 'Last Vl Validity', 'Last Vl Justification', 'Last Vl Date', 'Active In Ovc', 'Active In Otz', 'Active In Tb', 'Tb Screening At Last Visit', 'Tpt Start Date', 'Tpt Outcome', 'Tpt Outcome Date', 'Establishment', 'Differentiated Care Model', 'Last Visit Date', 'Self Visit Date', 'Next Appointment Date', 'Months Of Prescription', 'Refill Date', 'Ahd Client', 'Last Risk Score', 'Risk Categorization', 'Evaluation Date', 'Maternal Status']\n"
          ]
        }
      ]
    },
    {
      "cell_type": "markdown",
      "source": [
        "step 3: Exploratory Data Analysis"
      ],
      "metadata": {
        "id": "Cv4oG9xwkydo"
      }
    },
    {
      "cell_type": "code",
      "source": [
        "# Distribution of Key Clinical Features\n",
        "\n",
        "# Select relevant columns\n",
        "features = ['Last Vl', 'Baseline Cd4 Result', 'Age At Reporting']\n",
        "\n",
        "# Plot histograms\n",
        "plt.figure(figsize=(15, 4))\n",
        "for i, col in enumerate(features):\n",
        "    plt.subplot(1, 3, i+1)\n",
        "    if col in df.columns:\n",
        "        sns.histplot(df[col].dropna(), kde=True, bins=30, color='skyblue')\n",
        "        plt.title(f'Distribution of {col}')\n",
        "        plt.xlabel(col)\n",
        "        plt.ylabel('Frequency')\n",
        "plt.tight_layout()\n",
        "plt.show()\n"
      ],
      "metadata": {
        "colab": {
          "base_uri": "https://localhost:8080/",
          "height": 172
        },
        "id": "q8fQ_JIgk4t9",
        "outputId": "f5fb6f85-eaf0-49a6-9356-69d425dff893"
      },
      "execution_count": null,
      "outputs": [
        {
          "output_type": "display_data",
          "data": {
            "text/plain": [
              "<Figure size 1500x400 with 3 Axes>"
            ],
            "image/png": "[encoded data removed]"
          },
          "metadata": {}
        }
      ]
    },
    {
      "cell_type": "code",
      "source": [
        "# Outlier Detection with Boxplots\n",
        "# Select relevant columns\n",
        "features = ['Last Vl', 'Baseline Cd4 Result', 'Age At Reporting']\n",
        "\n",
        "# Plot boxplots\n",
        "plt.figure(figsize=(15, 4))\n",
        "for i, col in enumerate(features):\n",
        "    plt.subplot(1, 3, i+1)\n",
        "    if col in df.columns:\n",
        "        sns.boxplot(x=df[col], color='lightcoral')\n",
        "        plt.title(f'Boxplot of {col}')\n",
        "plt.tight_layout()\n",
        "plt.show()\n"
      ],
      "metadata": {
        "colab": {
          "base_uri": "https://localhost:8080/",
          "height": 172
        },
        "id": "KUYq_BuXmwP8",
        "outputId": "fa33ff3d-3332-4a40-eb95-4512db68bafe"
      },
      "execution_count": null,
      "outputs": [
        {
          "output_type": "display_data",
          "data": {
            "text/plain": [
              "<Figure size 1500x400 with 3 Axes>"
            ],
            "image/png": "[encoded data removed]"
          },
          "metadata": {}
        }
      ]
    },
    {
      "cell_type": "code",
      "source": [
        "# Step 3C: Restore Baseline CD4 and Impute Missing Values\n",
        "\n",
        "# Reload original dataset\n",
        "df_raw = pd.read_csv(\"/content/PMTCT Active on ART Patients Linelist_Sep-2025 (1).csv\")\n",
        "df_raw.columns = df_raw.columns.astype(str).str.strip().str.replace('_', ' ').str.replace(r'\\s+', ' ', regex=True).str.title()\n",
        "\n",
        "# Extract Baseline CD4 column\n",
        "cd4_baseline = df_raw[['Baseline Cd4 Result']]\n",
        "\n",
        "# Merge back into cleaned df\n",
        "df = pd.concat([df, cd4_baseline], axis=1)\n",
        "\n",
        "# Convert to numeric and impute missing with median\n",
        "df['Baseline Cd4 Result'] = pd.to_numeric(df['Baseline Cd4 Result'], errors='coerce')\n",
        "df['Baseline Cd4 Result'] = df['Baseline Cd4 Result'].fillna(df['Baseline Cd4 Result'].median())\n",
        "\n",
        "# Replot boxplot\n",
        "sns.boxplot(x=df['Baseline Cd4 Result'], color='lightcoral')\n",
        "plt.title('Boxplot of Baseline Cd4 Result (Imputed)')\n",
        "plt.show()\n"
      ],
      "metadata": {
        "colab": {
          "base_uri": "https://localhost:8080/",
          "height": 472
        },
        "id": "nfjVw1Ounnhh",
        "outputId": "bc91f66d-0c85-4f5c-dca1-30678977a53b"
      },
      "execution_count": null,
      "outputs": [
        {
          "output_type": "display_data",
          "data": {
            "text/plain": [
              "<Figure size 640x480 with 1 Axes>"
            ],
            "image/png": "[encoded data removed]"
          },
          "metadata": {}
        }
      ]
    },
    {
      "cell_type": "code",
      "source": [
        "# Step 3D (Updated): Smart Imputation + Outlier Capping\n",
        "\n",
        "def clean_and_cap(df, column):\n",
        "    if column in df.columns:\n",
        "        # Convert to numeric\n",
        "        df[column] = pd.to_numeric(df[column], errors='coerce')\n",
        "\n",
        "        # Impute missing values with median\n",
        "        median_val = df[column].median()\n",
        "        df[column] = df[column].fillna(median_val)\n",
        "\n",
        "        # Calculate IQR\n",
        "        Q1 = df[column].quantile(0.25)\n",
        "        Q3 = df[column].quantile(0.75)\n",
        "        IQR = Q3 - Q1\n",
        "\n",
        "        # Only cap if IQR > 0\n",
        "        if IQR > 0:\n",
        "            lower_bound = Q1 - 1.5 * IQR\n",
        "            upper_bound = Q3 + 1.5 * IQR\n",
        "            df[column] = np.where(df[column] < lower_bound, lower_bound,\n",
        "                                  np.where(df[column] > upper_bound, upper_bound, df[column]))\n",
        "            print(f\"{column}: Capped outliers outside [{lower_bound:.2f}, {upper_bound:.2f}]\")\n",
        "        else:\n",
        "            print(f\"{column}: No spread (IQR=0), skipping capping.\")\n",
        "    else:\n",
        "        print(f\"{column} not found in dataset.\")\n",
        "\n",
        "# Apply to key features\n",
        "clean_and_cap(df, 'Last Vl')\n",
        "clean_and_cap(df, 'Baseline Cd4 Result')\n",
        "clean_and_cap(df, 'Age At Reporting')\n",
        "\n",
        "\n"
      ],
      "metadata": {
        "colab": {
          "base_uri": "https://localhost:8080/"
        },
        "id": "xhyp-ky-ojDp",
        "outputId": "9c1fad09-7eac-4548-981c-7120b6d37e99"
      },
      "execution_count": null,
      "outputs": [
        {
          "output_type": "stream",
          "name": "stdout",
          "text": [
            "Last Vl: No spread (IQR=0), skipping capping.\n",
            "Baseline Cd4 Result: No spread (IQR=0), skipping capping.\n",
            "Age At Reporting: Capped outliers outside [10.38, 81.38]\n"
          ]
        }
      ]
    },
    {
      "cell_type": "markdown",
      "source": [
        "step 4: feature engineering"
      ],
      "metadata": {
        "id": "bwjWpabwq9vu"
      }
    },
    {
      "cell_type": "code",
      "source": [
        "# Step 4A (Fixed): Create Time on ART (in months)\n",
        "\n",
        "# Reload original dataset to restore 'Art Start Date' if needed\n",
        "df_raw = pd.read_csv(\"/content/PMTCT Active on ART Patients Linelist_Sep-2025 (1).csv\")\n",
        "df_raw.columns = df_raw.columns.astype(str).str.strip().str.replace('_', ' ').str.replace(r'\\s+', ' ', regex=True).str.title()\n",
        "\n",
        "# Restore 'Art Start Date' into cleaned df\n",
        "df['Art Start Date'] = df_raw['Art Start Date']\n",
        "\n",
        "# Convert to datetime\n",
        "df['Art Start Date'] = pd.to_datetime(df['Art Start Date'], errors='coerce')\n",
        "df['Evaluation Date'] = pd.to_datetime(df['Evaluation Date'], errors='coerce')\n",
        "\n",
        "# Calculate Time on ART in months (using average month length)\n",
        "df['Time On ART (Months)'] = ((df['Evaluation Date'] - df['Art Start Date']).dt.days / 30.44).round(1)\n",
        "\n",
        "# Plot distribution\n",
        "sns.histplot(df['Time On ART (Months)'].dropna(), bins=30, color='mediumseagreen', kde=True)\n",
        "plt.title('Distribution of Time on ART (Months)')\n",
        "plt.xlabel('Months')\n",
        "plt.ylabel('Frequency')\n",
        "plt.show()\n",
        "\n",
        "\n"
      ],
      "metadata": {
        "colab": {
          "base_uri": "https://localhost:8080/",
          "height": 472
        },
        "id": "S_rSO_b2q8_p",
        "outputId": "2b2ec19d-c137-4c91-be67-98f11cd81da5"
      },
      "execution_count": null,
      "outputs": [
        {
          "output_type": "display_data",
          "data": {
            "text/plain": [
              "<Figure size 640x480 with 1 Axes>"
            ],
            "image/png": "[encoded data removed]"
          },
          "metadata": {}
        }
      ]
    },
    {
      "cell_type": "code",
      "source": [
        "# Restore original VL column\n",
        "df_raw = pd.read_csv(\"/content/PMTCT Active on ART Patients Linelist_Sep-2025 (1).csv\")\n",
        "df_raw.columns = df_raw.columns.astype(str).str.strip().str.replace('_', ' ').str.replace(r'\\s+', ' ', regex=True).str.title()\n",
        "\n",
        "# Replace VL column in cleaned df\n",
        "df['Last Vl'] = df_raw['Last Vl']\n",
        "\n",
        "# Convert to numeric safely\n",
        "df['Last Vl'] = pd.to_numeric(df['Last Vl'], errors='coerce')\n",
        "\n",
        "# Create suppression flag\n",
        "df['VL Suppressed'] = np.where(df['Last Vl'] < 1000, 1, 0)\n",
        "\n",
        "# Check balance\n",
        "suppression_counts = df['VL Suppressed'].value_counts()\n",
        "suppression_percent = df['VL Suppressed'].value_counts(normalize=True) * 100\n",
        "\n",
        "# Display results\n",
        "print(\"VL Suppression Counts:\")\n",
        "print(suppression_counts)\n",
        "print(\"\\nVL Suppression Percentage:\")\n",
        "print(suppression_percent.round(2))\n",
        "\n",
        "# Plot\n",
        "sns.countplot(x='VL Suppressed', data=df, palette='coolwarm')\n",
        "plt.title('VL Suppression Status')\n",
        "plt.xlabel('Suppressed (1) vs Unsuppressed (0)')\n",
        "plt.ylabel('Patient Count')\n",
        "plt.show()\n",
        "\n",
        "\n"
      ],
      "metadata": {
        "colab": {
          "base_uri": "https://localhost:8080/",
          "height": 770
        },
        "id": "xCuR55PzrfGQ",
        "outputId": "00b79b67-24ce-4764-e510-e2db8441abd4"
      },
      "execution_count": null,
      "outputs": [
        {
          "output_type": "stream",
          "name": "stdout",
          "text": [
            "VL Suppression Counts:\n",
            "VL Suppressed\n",
            "1    787\n",
            "0     31\n",
            "Name: count, dtype: int64\n",
            "\n",
            "VL Suppression Percentage:\n",
            "VL Suppressed\n",
            "1    96.21\n",
            "0     3.79\n",
            "Name: proportion, dtype: float64\n"
          ]
        },
        {
          "output_type": "stream",
          "name": "stderr",
          "text": [
            "/tmp/ipython-input-3913415841.py:25: FutureWarning: \n",
            "\n",
            "Passing `palette` without assigning `hue` is deprecated and will be removed in v0.14.0. Assign the `x` variable to `hue` and set `legend=False` for the same effect.\n",
            "\n",
            "  sns.countplot(x='VL Suppressed', data=df, palette='coolwarm')\n"
          ]
        },
        {
          "output_type": "display_data",
          "data": {
            "text/plain": [
              "<Figure size 640x480 with 1 Axes>"
            ],
            "image/png": "[encoded data removed]"
          },
          "metadata": {}
        }
      ]
    },
    {
      "cell_type": "code",
      "source": [
        "# Step 4D (Fixed): Encode PMTCT Status\n",
        "\n",
        "# Standardize text\n",
        "df['Active In Pmtct'] = df['Active In Pmtct'].astype(str).str.strip().str.title()\n",
        "\n",
        "# Encode binary flag\n",
        "df['PMTCT Status Encoded'] = np.where(df['Active In Pmtct'] == 'Yes', 1,\n",
        "                                      np.where(df['Active In Pmtct'] == 'No', 0, np.nan))\n",
        "\n",
        "# Check distribution\n",
        "sns.countplot(x='PMTCT Status Encoded', data=df, palette='mako')\n",
        "plt.title('PMTCT Enrollment Status')\n",
        "plt.xlabel('Enrolled (1) vs Not Enrolled (0)')\n",
        "plt.ylabel('Patient Count')\n",
        "plt.show()\n",
        "\n",
        "# Print value counts\n",
        "print(\"PMTCT Status Counts:\")\n",
        "print(df['PMTCT Status Encoded'].value_counts(dropna=False))\n",
        "\n"
      ],
      "metadata": {
        "colab": {
          "base_uri": "https://localhost:8080/",
          "height": 634
        },
        "id": "MJkW7KgVyZZF",
        "outputId": "edc14983-10f1-43d5-9f0b-1110a9956b02"
      },
      "execution_count": null,
      "outputs": [
        {
          "output_type": "error",
          "ename": "KeyError",
          "evalue": "'Active In Pmtct'",
          "traceback": [
            "\u001b[0;31m---------------------------------------------------------------------------\u001b[0m",
            "\u001b[0;31mKeyError\u001b[0m                                  Traceback (most recent call last)",
            "\u001b[0;32m/usr/local/lib/python3.12/dist-packages/pandas/core/indexes/base.py\u001b[0m in \u001b[0;36mget_loc\u001b[0;34m(self, key)\u001b[0m\n\u001b[1;32m   3804\u001b[0m         \u001b[0;32mtry\u001b[0m\u001b[0;34m:\u001b[0m\u001b[0;34m\u001b[0m\u001b[0;34m\u001b[0m\u001b[0m\n\u001b[0;32m-> 3805\u001b[0;31m             \u001b[0;32mreturn\u001b[0m \u001b[0mself\u001b[0m\u001b[0;34m.\u001b[0m\u001b[0m_engine\u001b[0m\u001b[0;34m.\u001b[0m\u001b[0mget_loc\u001b[0m\u001b[0;34m(\u001b[0m\u001b[0mcasted_key\u001b[0m\u001b[0;34m)\u001b[0m\u001b[0;34m\u001b[0m\u001b[0;34m\u001b[0m\u001b[0m\n\u001b[0m\u001b[1;32m   3806\u001b[0m         \u001b[0;32mexcept\u001b[0m \u001b[0mKeyError\u001b[0m \u001b[0;32mas\u001b[0m \u001b[0merr\u001b[0m\u001b[0;34m:\u001b[0m\u001b[0;34m\u001b[0m\u001b[0;34m\u001b[0m\u001b[0m\n",
            "\u001b[0;32mindex.pyx\u001b[0m in \u001b[0;36mpandas._libs.index.IndexEngine.get_loc\u001b[0;34m()\u001b[0m\n",
            "\u001b[0;32mindex.pyx\u001b[0m in \u001b[0;36mpandas._libs.index.IndexEngine.get_loc\u001b[0;34m()\u001b[0m\n",
            "\u001b[0;32mpandas/_libs/hashtable_class_helper.pxi\u001b[0m in \u001b[0;36mpandas._libs.hashtable.PyObjectHashTable.get_item\u001b[0;34m()\u001b[0m\n",
            "\u001b[0;32mpandas/_libs/hashtable_class_helper.pxi\u001b[0m in \u001b[0;36mpandas._libs.hashtable.PyObjectHashTable.get_item\u001b[0;34m()\u001b[0m\n",
            "\u001b[0;31mKeyError\u001b[0m: 'Active In Pmtct'",
            "\nThe above exception was the direct cause of the following exception:\n",
            "\u001b[0;31mKeyError\u001b[0m                                  Traceback (most recent call last)",
            "\u001b[0;32m/tmp/ipython-input-656755282.py\u001b[0m in \u001b[0;36m<cell line: 0>\u001b[0;34m()\u001b[0m\n\u001b[1;32m      2\u001b[0m \u001b[0;34m\u001b[0m\u001b[0m\n\u001b[1;32m      3\u001b[0m \u001b[0;31m# Standardize text\u001b[0m\u001b[0;34m\u001b[0m\u001b[0;34m\u001b[0m\u001b[0m\n\u001b[0;32m----> 4\u001b[0;31m \u001b[0mdf\u001b[0m\u001b[0;34m[\u001b[0m\u001b[0;34m'Active In Pmtct'\u001b[0m\u001b[0;34m]\u001b[0m \u001b[0;34m=\u001b[0m \u001b[0mdf\u001b[0m\u001b[0;34m[\u001b[0m\u001b[0;34m'Active In Pmtct'\u001b[0m\u001b[0;34m]\u001b[0m\u001b[0;34m.\u001b[0m\u001b[0mastype\u001b[0m\u001b[0;34m(\u001b[0m\u001b[0mstr\u001b[0m\u001b[0;34m)\u001b[0m\u001b[0;34m.\u001b[0m\u001b[0mstr\u001b[0m\u001b[0;34m.\u001b[0m\u001b[0mstrip\u001b[0m\u001b[0;34m(\u001b[0m\u001b[0;34m)\u001b[0m\u001b[0;34m.\u001b[0m\u001b[0mstr\u001b[0m\u001b[0;34m.\u001b[0m\u001b[0mtitle\u001b[0m\u001b[0;34m(\u001b[0m\u001b[0;34m)\u001b[0m\u001b[0;34m\u001b[0m\u001b[0;34m\u001b[0m\u001b[0m\n\u001b[0m\u001b[1;32m      5\u001b[0m \u001b[0;34m\u001b[0m\u001b[0m\n\u001b[1;32m      6\u001b[0m \u001b[0;31m# Encode binary flag\u001b[0m\u001b[0;34m\u001b[0m\u001b[0;34m\u001b[0m\u001b[0m\n",
            "\u001b[0;32m/usr/local/lib/python3.12/dist-packages/pandas/core/frame.py\u001b[0m in \u001b[0;36m__getitem__\u001b[0;34m(self, key)\u001b[0m\n\u001b[1;32m   4100\u001b[0m             \u001b[0;32mif\u001b[0m \u001b[0mself\u001b[0m\u001b[0;34m.\u001b[0m\u001b[0mcolumns\u001b[0m\u001b[0;34m.\u001b[0m\u001b[0mnlevels\u001b[0m \u001b[0;34m>\u001b[0m \u001b[0;36m1\u001b[0m\u001b[0;34m:\u001b[0m\u001b[0;34m\u001b[0m\u001b[0;34m\u001b[0m\u001b[0m\n\u001b[1;32m   4101\u001b[0m                 \u001b[0;32mreturn\u001b[0m \u001b[0mself\u001b[0m\u001b[0;34m.\u001b[0m\u001b[0m_getitem_multilevel\u001b[0m\u001b[0;34m(\u001b[0m\u001b[0mkey\u001b[0m\u001b[0;34m)\u001b[0m\u001b[0;34m\u001b[0m\u001b[0;34m\u001b[0m\u001b[0m\n\u001b[0;32m-> 4102\u001b[0;31m             \u001b[0mindexer\u001b[0m \u001b[0;34m=\u001b[0m \u001b[0mself\u001b[0m\u001b[0;34m.\u001b[0m\u001b[0mcolumns\u001b[0m\u001b[0;34m.\u001b[0m\u001b[0mget_loc\u001b[0m\u001b[0;34m(\u001b[0m\u001b[0mkey\u001b[0m\u001b[0;34m)\u001b[0m\u001b[0;34m\u001b[0m\u001b[0;34m\u001b[0m\u001b[0m\n\u001b[0m\u001b[1;32m   4103\u001b[0m             \u001b[0;32mif\u001b[0m \u001b[0mis_integer\u001b[0m\u001b[0;34m(\u001b[0m\u001b[0mindexer\u001b[0m\u001b[0;34m)\u001b[0m\u001b[0;34m:\u001b[0m\u001b[0;34m\u001b[0m\u001b[0;34m\u001b[0m\u001b[0m\n\u001b[1;32m   4104\u001b[0m                 \u001b[0mindexer\u001b[0m \u001b[0;34m=\u001b[0m \u001b[0;34m[\u001b[0m\u001b[0mindexer\u001b[0m\u001b[0;34m]\u001b[0m\u001b[0;34m\u001b[0m\u001b[0;34m\u001b[0m\u001b[0m\n",
            "\u001b[0;32m/usr/local/lib/python3.12/dist-packages/pandas/core/indexes/base.py\u001b[0m in \u001b[0;36mget_loc\u001b[0;34m(self, key)\u001b[0m\n\u001b[1;32m   3810\u001b[0m             ):\n\u001b[1;32m   3811\u001b[0m                 \u001b[0;32mraise\u001b[0m \u001b[0mInvalidIndexError\u001b[0m\u001b[0;34m(\u001b[0m\u001b[0mkey\u001b[0m\u001b[0;34m)\u001b[0m\u001b[0;34m\u001b[0m\u001b[0;34m\u001b[0m\u001b[0m\n\u001b[0;32m-> 3812\u001b[0;31m             \u001b[0;32mraise\u001b[0m \u001b[0mKeyError\u001b[0m\u001b[0;34m(\u001b[0m\u001b[0mkey\u001b[0m\u001b[0;34m)\u001b[0m \u001b[0;32mfrom\u001b[0m \u001b[0merr\u001b[0m\u001b[0;34m\u001b[0m\u001b[0;34m\u001b[0m\u001b[0m\n\u001b[0m\u001b[1;32m   3813\u001b[0m         \u001b[0;32mexcept\u001b[0m \u001b[0mTypeError\u001b[0m\u001b[0;34m:\u001b[0m\u001b[0;34m\u001b[0m\u001b[0;34m\u001b[0m\u001b[0m\n\u001b[1;32m   3814\u001b[0m             \u001b[0;31m# If we have a listlike key, _check_indexing_error will raise\u001b[0m\u001b[0;34m\u001b[0m\u001b[0;34m\u001b[0m\u001b[0m\n",
            "\u001b[0;31mKeyError\u001b[0m: 'Active In Pmtct'"
          ]
        }
      ]
    },
    {
      "cell_type": "code",
      "source": [
        "# Restore 'Active In Pmtct' from raw dataset\n",
        "df_raw = pd.read_csv(\"/content/PMTCT Active on ART Patients Linelist_Sep-2025 (1).csv\")\n",
        "df_raw.columns = df_raw.columns.astype(str).str.strip().str.replace('_', ' ').str.replace(r'\\s+', ' ', regex=True).str.title()\n",
        "\n",
        "# Add 'Active In Pmtct' back into cleaned df\n",
        "df['Active In Pmtct'] = df_raw['Active In Pmtct'].astype(str).str.strip().str.title()\n",
        "\n",
        "# Encode binary flag\n",
        "df['PMTCT Status Encoded'] = np.where(df['Active In Pmtct'] == 'Yes', 1,\n",
        "                                      np.where(df['Active In Pmtct'] == 'No', 0, np.nan))\n",
        "\n",
        "# Check distribution\n",
        "sns.countplot(x='PMTCT Status Encoded', data=df, palette='mako')\n",
        "plt.title('PMTCT Enrollment Status')\n",
        "plt.xlabel('Enrolled (1) vs Not Enrolled (0)')\n",
        "plt.ylabel('Patient Count')\n",
        "plt.show()\n",
        "\n",
        "# Print value counts\n",
        "print(\"PMTCT Status Counts:\")\n",
        "print(df['PMTCT Status Encoded'].value_counts(dropna=False))\n"
      ],
      "metadata": {
        "colab": {
          "base_uri": "https://localhost:8080/",
          "height": 666
        },
        "id": "iAYjLTmT0NO0",
        "outputId": "c4740210-d2c4-4e9b-da82-904dce32fbc4"
      },
      "execution_count": null,
      "outputs": [
        {
          "output_type": "stream",
          "name": "stderr",
          "text": [
            "/tmp/ipython-input-2901793872.py:13: FutureWarning: \n",
            "\n",
            "Passing `palette` without assigning `hue` is deprecated and will be removed in v0.14.0. Assign the `x` variable to `hue` and set `legend=False` for the same effect.\n",
            "\n",
            "  sns.countplot(x='PMTCT Status Encoded', data=df, palette='mako')\n"
          ]
        },
        {
          "output_type": "display_data",
          "data": {
            "text/plain": [
              "<Figure size 640x480 with 1 Axes>"
            ],
            "image/png": "[encoded data removed]"
          },
          "metadata": {}
        },
        {
          "output_type": "stream",
          "name": "stdout",
          "text": [
            "PMTCT Status Counts:\n",
            "PMTCT Status Encoded\n",
            "0.0    510\n",
            "NaN    308\n",
            "Name: count, dtype: int64\n"
          ]
        }
      ]
    },
    {
      "cell_type": "code",
      "source": [
        "# Check raw PMTCT values\n",
        "df_raw = pd.read_csv(\"/content/PMTCT Active on ART Patients Linelist_Sep-2025 (1).csv\")\n",
        "df_raw.columns = df_raw.columns.astype(str).str.strip().str.replace('_', ' ').str.replace(r'\\s+', ' ', regex=True).str.title()\n",
        "\n",
        "# Inspect value counts\n",
        "print(df_raw['Active In Pmtct'].value_counts(dropna=False))\n"
      ],
      "metadata": {
        "colab": {
          "base_uri": "https://localhost:8080/"
        },
        "id": "qGEr9pnj0oQV",
        "outputId": "3b82e592-6af1-40cc-ce53-0970459b8646"
      },
      "execution_count": null,
      "outputs": [
        {
          "output_type": "stream",
          "name": "stdout",
          "text": [
            "Active In Pmtct\n",
            "No               510\n",
            "NaN              275\n",
            "Breastfeeding     25\n",
            "Pregnant           8\n",
            "Name: count, dtype: int64\n"
          ]
        }
      ]
    },
    {
      "cell_type": "code",
      "source": [
        "df['Maternal Status'] = np.where(df['Active In Pmtct'].isin(['Pregnant', 'Breastfeeding']), 1, 0)\n",
        "print(df['Maternal Status'].value_counts(dropna=False))\n"
      ],
      "metadata": {
        "colab": {
          "base_uri": "https://localhost:8080/"
        },
        "id": "D_2CwaBE1dtB",
        "outputId": "16921fa8-d510-442a-931d-85009bbdd2dc"
      },
      "execution_count": null,
      "outputs": [
        {
          "output_type": "stream",
          "name": "stdout",
          "text": [
            "Maternal Status\n",
            "0    785\n",
            "1     33\n",
            "Name: count, dtype: int64\n"
          ]
        }
      ]
    },
    {
      "cell_type": "code",
      "source": [
        "# Step 4E (Finalized): Clean Feature Selection\n",
        "# Define features for modeling\n",
        "feature_cols = ['Age At Reporting', 'Baseline Cd4 Result', 'Time On ART (Months)']\n",
        "\n",
        "# Create Maternal Status flag (if not already created)\n",
        "df['Maternal Status'] = np.where(df['Active In Pmtct'].isin(['Pregnant', 'Breastfeeding']), 1, 0)\n",
        "\n",
        "# Optional: include maternal status for dashboard filtering only\n",
        "X = df[feature_cols]\n",
        "X_dashboard = df[feature_cols + ['Maternal Status']]  # for dashboard use only\n",
        "\n",
        "# Confirm feature columns\n",
        "print(\"Modeling Features:\", X.columns.tolist())\n",
        "print(\"Dashboard Features:\", X_dashboard.columns.tolist())\n",
        "\n"
      ],
      "metadata": {
        "colab": {
          "base_uri": "https://localhost:8080/"
        },
        "id": "BoXdALRS3gUO",
        "outputId": "b4da6b67-cff1-4eb5-849c-7b7a2ae0e634"
      },
      "execution_count": null,
      "outputs": [
        {
          "output_type": "stream",
          "name": "stdout",
          "text": [
            "Modeling Features: ['Age At Reporting', 'Baseline Cd4 Result', 'Time On ART (Months)']\n",
            "Dashboard Features: ['Age At Reporting', 'Baseline Cd4 Result', 'Time On ART (Months)', 'Maternal Status']\n"
          ]
        }
      ]
    },
    {
      "cell_type": "code",
      "source": [
        "# Impute missing Time On ART values with median\n",
        "df['Time On ART (Months)'] = df['Time On ART (Months)'].fillna(df['Time On ART (Months)'].median())\n",
        "\n",
        "# Recreate feature matrix\n",
        "X = df[feature_cols]\n",
        "print(\"Updated Features:\")\n",
        "print(X.head())\n"
      ],
      "metadata": {
        "colab": {
          "base_uri": "https://localhost:8080/"
        },
        "id": "_ekMIE3q364_",
        "outputId": "b625a692-8cbf-415d-f13c-65dcbddcb72c"
      },
      "execution_count": null,
      "outputs": [
        {
          "output_type": "stream",
          "name": "stdout",
          "text": [
            "Updated Features:\n",
            "   Age At Reporting  Baseline Cd4 Result  Time On ART (Months)\n",
            "0              65.0                90.00                100.40\n",
            "1              33.0                18.41                102.40\n",
            "2              63.0               302.00                 99.40\n",
            "3              33.0               302.00                131.75\n",
            "4              35.0               302.00                131.75\n"
          ]
        }
      ]
    },
    {
      "cell_type": "code",
      "source": [
        "# Step 4F: Define Target Variable\n",
        "y = df['VL Suppressed']\n",
        "\n",
        "# Preview target distribution\n",
        "print(\"Target Variable (y) Distribution:\")\n",
        "print(y.value_counts(dropna=False))\n"
      ],
      "metadata": {
        "colab": {
          "base_uri": "https://localhost:8080/"
        },
        "id": "UEpA-Vz85ADG",
        "outputId": "524ab34c-8ad1-4a41-ae9e-c09f6b4e9633"
      },
      "execution_count": null,
      "outputs": [
        {
          "output_type": "stream",
          "name": "stdout",
          "text": [
            "Target Variable (y) Distribution:\n",
            "VL Suppressed\n",
            "1    787\n",
            "0     31\n",
            "Name: count, dtype: int64\n"
          ]
        }
      ]
    },
    {
      "cell_type": "markdown",
      "source": [
        "step 5: Training and Spliting + SMOTE"
      ],
      "metadata": {
        "id": "KRrhh2c45PQ3"
      }
    },
    {
      "cell_type": "code",
      "source": [
        "# Step 5: Train-Test Split + SMOTE\n",
        "from sklearn.model_selection import train_test_split\n",
        "from imblearn.over_sampling import SMOTE\n",
        "\n",
        "# Split data with stratification to preserve class balance\n",
        "X_train, X_test, y_train, y_test = train_test_split(\n",
        "    X, y, test_size=0.2, stratify=y, random_state=42\n",
        ")\n",
        "\n",
        "# Apply SMOTE to training set only\n",
        "smote = SMOTE(random_state=42)\n",
        "X_train_resampled, y_train_resampled = smote.fit_resample(X_train, y_train)\n",
        "\n",
        "# Check new class balance\n",
        "print(\"Resampled Training Set Distribution:\")\n",
        "print(y_train_resampled.value_counts())\n"
      ],
      "metadata": {
        "colab": {
          "base_uri": "https://localhost:8080/"
        },
        "id": "S52zuURp5USZ",
        "outputId": "e56ed836-a356-4d67-c8fa-51ae5d01dfaf"
      },
      "execution_count": null,
      "outputs": [
        {
          "output_type": "stream",
          "name": "stdout",
          "text": [
            "Resampled Training Set Distribution:\n",
            "VL Suppressed\n",
            "1    629\n",
            "0    629\n",
            "Name: count, dtype: int64\n"
          ]
        }
      ]
    },
    {
      "cell_type": "code",
      "source": [
        "# Check original split shapes\n",
        "print(\"Original Training Set Shape:\")\n",
        "print(\"X_train:\", X_train.shape)\n",
        "print(\"y_train:\", y_train.shape)\n",
        "\n",
        "print(\"\\nOriginal Test Set Shape:\")\n",
        "print(\"X_test:\", X_test.shape)\n",
        "print(\"y_test:\", y_test.shape)\n",
        "\n",
        "# Check resampled training set shape\n",
        "print(\"\\nResampled Training Set Shape (after SMOTE):\")\n",
        "print(\"X_train_resampled:\", X_train_resampled.shape)\n",
        "print(\"y_train_resampled:\", y_train_resampled.shape)\n"
      ],
      "metadata": {
        "colab": {
          "base_uri": "https://localhost:8080/"
        },
        "id": "6K6elkb26uWi",
        "outputId": "f7f7fd77-1343-4f5c-f391-7e094e6c0121"
      },
      "execution_count": null,
      "outputs": [
        {
          "output_type": "stream",
          "name": "stdout",
          "text": [
            "Original Training Set Shape:\n",
            "X_train: (654, 3)\n",
            "y_train: (654,)\n",
            "\n",
            "Original Test Set Shape:\n",
            "X_test: (164, 3)\n",
            "y_test: (164,)\n",
            "\n",
            "Resampled Training Set Shape (after SMOTE):\n",
            "X_train_resampled: (1258, 3)\n",
            "y_train_resampled: (1258,)\n"
          ]
        }
      ]
    },
    {
      "cell_type": "code",
      "source": [
        "# Step 6A: Random Forest Classifier\n",
        "from sklearn.ensemble import RandomForestClassifier\n",
        "from sklearn.metrics import classification_report, confusion_matrix\n",
        "\n",
        "# Train model\n",
        "rf_model = RandomForestClassifier(random_state=42)\n",
        "rf_model.fit(X_train_resampled, y_train_resampled)\n",
        "\n",
        "# Predict on test set\n",
        "y_pred_rf = rf_model.predict(X_test)\n",
        "\n",
        "# Evaluate\n",
        "print(\"Random Forest Evaluation:\")\n",
        "print(confusion_matrix(y_test, y_pred_rf))\n",
        "print(classification_report(y_test, y_pred_rf))\n"
      ],
      "metadata": {
        "colab": {
          "base_uri": "https://localhost:8080/"
        },
        "id": "Wsrsul0E7XMc",
        "outputId": "a92b621f-c577-4eaf-98b2-9339cd449456"
      },
      "execution_count": null,
      "outputs": [
        {
          "output_type": "stream",
          "name": "stdout",
          "text": [
            "Random Forest Evaluation:\n",
            "[[  1   5]\n",
            " [ 10 148]]\n",
            "              precision    recall  f1-score   support\n",
            "\n",
            "           0       0.09      0.17      0.12         6\n",
            "           1       0.97      0.94      0.95       158\n",
            "\n",
            "    accuracy                           0.91       164\n",
            "   macro avg       0.53      0.55      0.53       164\n",
            "weighted avg       0.94      0.91      0.92       164\n",
            "\n"
          ]
        }
      ]
    },
    {
      "cell_type": "code",
      "source": [
        "# Step 6B: XGBoost Classifier\n",
        "from xgboost import XGBClassifier\n",
        "\n",
        "# Train model\n",
        "xgb_model = XGBClassifier(random_state=42, use_label_encoder=False, eval_metric='logloss')\n",
        "xgb_model.fit(X_train_resampled, y_train_resampled)\n",
        "\n",
        "# Predict on test set\n",
        "y_pred_xgb = xgb_model.predict(X_test)\n",
        "\n",
        "# Evaluate\n",
        "print(\"XGBoost Evaluation:\")\n",
        "print(confusion_matrix(y_test, y_pred_xgb))\n",
        "print(classification_report(y_test, y_pred_xgb))\n"
      ],
      "metadata": {
        "colab": {
          "base_uri": "https://localhost:8080/"
        },
        "id": "XbIYo6047kfz",
        "outputId": "a1c7b8eb-2d4a-426b-aa98-8d81266f4eb7"
      },
      "execution_count": null,
      "outputs": [
        {
          "output_type": "stream",
          "name": "stdout",
          "text": [
            "XGBoost Evaluation:\n",
            "[[  1   5]\n",
            " [ 25 133]]\n",
            "              precision    recall  f1-score   support\n",
            "\n",
            "           0       0.04      0.17      0.06         6\n",
            "           1       0.96      0.84      0.90       158\n",
            "\n",
            "    accuracy                           0.82       164\n",
            "   macro avg       0.50      0.50      0.48       164\n",
            "weighted avg       0.93      0.82      0.87       164\n",
            "\n"
          ]
        },
        {
          "output_type": "stream",
          "name": "stderr",
          "text": [
            "/usr/local/lib/python3.12/dist-packages/xgboost/training.py:183: UserWarning: [07:56:37] WARNING: /workspace/src/learner.cc:738: \n",
            "Parameters: { \"use_label_encoder\" } are not used.\n",
            "\n",
            "  bst.update(dtrain, iteration=i, fobj=obj)\n"
          ]
        }
      ]
    },
    {
      "cell_type": "code",
      "source": [
        "# Step 6C: Logistic Regression\n",
        "from sklearn.linear_model import LogisticRegression\n",
        "\n",
        "# Train model\n",
        "lr_model = LogisticRegression(max_iter=1000, random_state=42)\n",
        "lr_model.fit(X_train_resampled, y_train_resampled)\n",
        "\n",
        "# Predict on test set\n",
        "y_pred_lr = lr_model.predict(X_test)\n",
        "\n",
        "# Evaluate\n",
        "print(\"Logistic Regression Evaluation:\")\n",
        "print(confusion_matrix(y_test, y_pred_lr))\n",
        "print(classification_report(y_test, y_pred_lr))\n"
      ],
      "metadata": {
        "colab": {
          "base_uri": "https://localhost:8080/"
        },
        "id": "9AmPdy6j7nLq",
        "outputId": "f723e6c0-8b0a-4dce-8ae5-2f95e40bd52b"
      },
      "execution_count": null,
      "outputs": [
        {
          "output_type": "stream",
          "name": "stdout",
          "text": [
            "Logistic Regression Evaluation:\n",
            "[[ 5  1]\n",
            " [60 98]]\n",
            "              precision    recall  f1-score   support\n",
            "\n",
            "           0       0.08      0.83      0.14         6\n",
            "           1       0.99      0.62      0.76       158\n",
            "\n",
            "    accuracy                           0.63       164\n",
            "   macro avg       0.53      0.73      0.45       164\n",
            "weighted avg       0.96      0.63      0.74       164\n",
            "\n"
          ]
        }
      ]
    },
    {
      "cell_type": "code",
      "source": [
        "print(\"Feature Columns Used for Modeling:\")\n",
        "print(X.columns.tolist())\n"
      ],
      "metadata": {
        "colab": {
          "base_uri": "https://localhost:8080/"
        },
        "id": "e-KEow_q8J3b",
        "outputId": "185c5bc7-68b6-4161-dc98-50f8595f307b"
      },
      "execution_count": null,
      "outputs": [
        {
          "output_type": "stream",
          "name": "stdout",
          "text": [
            "Feature Columns Used for Modeling:\n",
            "['Age At Reporting', 'Baseline Cd4 Result', 'Time On ART (Months)']\n"
          ]
        }
      ]
    },
    {
      "cell_type": "code",
      "source": [
        "# Step 7B: Save the selected model\n",
        "import joblib\n",
        "\n",
        "# Save logistic regression model\n",
        "joblib.dump(lr_model, 'logistic_model.pkl')\n",
        "print(\"Model saved as 'logistic_model.pkl'\")\n"
      ],
      "metadata": {
        "colab": {
          "base_uri": "https://localhost:8080/"
        },
        "id": "GoH4oOgK-ZtG",
        "outputId": "21f5fe43-e8f8-4807-eacc-f73284d0f388"
      },
      "execution_count": null,
      "outputs": [
        {
          "output_type": "stream",
          "name": "stdout",
          "text": [
            "Model saved as 'logistic_model.pkl'\n"
          ]
        }
      ]
    },
    {
      "cell_type": "code",
      "source": [
        "!pip install streamlit\n"
      ],
      "metadata": {
        "colab": {
          "base_uri": "https://localhost:8080/"
        },
        "id": "CTOnyfKVAB1j",
        "outputId": "115d629d-5cb3-4645-b2c4-da0e66e771af"
      },
      "execution_count": null,
      "outputs": [
        {
          "output_type": "stream",
          "name": "stdout",
          "text": [
            "Collecting streamlit\n",
            "  Downloading streamlit-1.49.1-py3-none-any.whl.metadata (9.5 kB)\n",
            "Requirement already satisfied: altair!=5.4.0,!=5.4.1,<6,>=4.0 in /usr/local/lib/python3.12/dist-packages (from streamlit) (5.5.0)\n",
            "Requirement already satisfied: blinker<2,>=1.5.0 in /usr/local/lib/python3.12/dist-packages (from streamlit) (1.9.0)\n",
            "Requirement already satisfied: cachetools<7,>=4.0 in /usr/local/lib/python3.12/dist-packages (from streamlit) (5.5.2)\n",
            "Requirement already satisfied: click<9,>=7.0 in /usr/local/lib/python3.12/dist-packages (from streamlit) (8.2.1)\n",
            "Requirement already satisfied: numpy<3,>=1.23 in /usr/local/lib/python3.12/dist-packages (from streamlit) (2.0.2)\n",
            "Requirement already satisfied: packaging<26,>=20 in /usr/local/lib/python3.12/dist-packages (from streamlit) (25.0)\n",
            "Requirement already satisfied: pandas<3,>=1.4.0 in /usr/local/lib/python3.12/dist-packages (from streamlit) (2.2.2)\n",
            "Requirement already satisfied: pillow<12,>=7.1.0 in /usr/local/lib/python3.12/dist-packages (from streamlit) (11.3.0)\n",
            "Requirement already satisfied: protobuf<7,>=3.20 in /usr/local/lib/python3.12/dist-packages (from streamlit) (5.29.5)\n",
            "Requirement already satisfied: pyarrow>=7.0 in /usr/local/lib/python3.12/dist-packages (from streamlit) (18.1.0)\n",
            "Requirement already satisfied: requests<3,>=2.27 in /usr/local/lib/python3.12/dist-packages (from streamlit) (2.32.4)\n",
            "Requirement already satisfied: tenacity<10,>=8.1.0 in /usr/local/lib/python3.12/dist-packages (from streamlit) (8.5.0)\n",
            "Requirement already satisfied: toml<2,>=0.10.1 in /usr/local/lib/python3.12/dist-packages (from streamlit) (0.10.2)\n",
            "Requirement already satisfied: typing-extensions<5,>=4.4.0 in /usr/local/lib/python3.12/dist-packages (from streamlit) (4.15.0)\n",
            "Requirement already satisfied: watchdog<7,>=2.1.5 in /usr/local/lib/python3.12/dist-packages (from streamlit) (6.0.0)\n",
            "Requirement already satisfied: gitpython!=3.1.19,<4,>=3.0.7 in /usr/local/lib/python3.12/dist-packages (from streamlit) (3.1.45)\n",
            "Collecting pydeck<1,>=0.8.0b4 (from streamlit)\n",
            "  Downloading pydeck-0.9.1-py2.py3-none-any.whl.metadata (4.1 kB)\n",
            "Requirement already satisfied: tornado!=6.5.0,<7,>=6.0.3 in /usr/local/lib/python3.12/dist-packages (from streamlit) (6.4.2)\n",
            "Requirement already satisfied: jinja2 in /usr/local/lib/python3.12/dist-packages (from altair!=5.4.0,!=5.4.1,<6,>=4.0->streamlit) (3.1.6)\n",
            "Requirement already satisfied: jsonschema>=3.0 in /usr/local/lib/python3.12/dist-packages (from altair!=5.4.0,!=5.4.1,<6,>=4.0->streamlit) (4.25.1)\n",
            "Requirement already satisfied: narwhals>=1.14.2 in /usr/local/lib/python3.12/dist-packages (from altair!=5.4.0,!=5.4.1,<6,>=4.0->streamlit) (2.5.0)\n",
            "Requirement already satisfied: gitdb<5,>=4.0.1 in /usr/local/lib/python3.12/dist-packages (from gitpython!=3.1.19,<4,>=3.0.7->streamlit) (4.0.12)\n",
            "Requirement already satisfied: python-dateutil>=2.8.2 in /usr/local/lib/python3.12/dist-packages (from pandas<3,>=1.4.0->streamlit) (2.9.0.post0)\n",
            "Requirement already satisfied: pytz>=2020.1 in /usr/local/lib/python3.12/dist-packages (from pandas<3,>=1.4.0->streamlit) (2025.2)\n",
            "Requirement already satisfied: tzdata>=2022.7 in /usr/local/lib/python3.12/dist-packages (from pandas<3,>=1.4.0->streamlit) (2025.2)\n",
            "Requirement already satisfied: charset_normalizer<4,>=2 in /usr/local/lib/python3.12/dist-packages (from requests<3,>=2.27->streamlit) (3.4.3)\n",
            "Requirement already satisfied: idna<4,>=2.5 in /usr/local/lib/python3.12/dist-packages (from requests<3,>=2.27->streamlit) (3.10)\n",
            "Requirement already satisfied: urllib3<3,>=1.21.1 in /usr/local/lib/python3.12/dist-packages (from requests<3,>=2.27->streamlit) (2.5.0)\n",
            "Requirement already satisfied: certifi>=2017.4.17 in /usr/local/lib/python3.12/dist-packages (from requests<3,>=2.27->streamlit) (2025.8.3)\n",
            "Requirement already satisfied: smmap<6,>=3.0.1 in /usr/local/lib/python3.12/dist-packages (from gitdb<5,>=4.0.1->gitpython!=3.1.19,<4,>=3.0.7->streamlit) (5.0.2)\n",
            "Requirement already satisfied: MarkupSafe>=2.0 in /usr/local/lib/python3.12/dist-packages (from jinja2->altair!=5.4.0,!=5.4.1,<6,>=4.0->streamlit) (3.0.2)\n",
            "Requirement already satisfied: attrs>=22.2.0 in /usr/local/lib/python3.12/dist-packages (from jsonschema>=3.0->altair!=5.4.0,!=5.4.1,<6,>=4.0->streamlit) (25.3.0)\n",
            "Requirement already satisfied: jsonschema-specifications>=2023.03.6 in /usr/local/lib/python3.12/dist-packages (from jsonschema>=3.0->altair!=5.4.0,!=5.4.1,<6,>=4.0->streamlit) (2025.9.1)\n",
            "Requirement already satisfied: referencing>=0.28.4 in /usr/local/lib/python3.12/dist-packages (from jsonschema>=3.0->altair!=5.4.0,!=5.4.1,<6,>=4.0->streamlit) (0.36.2)\n",
            "Requirement already satisfied: rpds-py>=0.7.1 in /usr/local/lib/python3.12/dist-packages (from jsonschema>=3.0->altair!=5.4.0,!=5.4.1,<6,>=4.0->streamlit) (0.27.1)\n",
            "Requirement already satisfied: six>=1.5 in /usr/local/lib/python3.12/dist-packages (from python-dateutil>=2.8.2->pandas<3,>=1.4.0->streamlit) (1.17.0)\n",
            "Downloading streamlit-1.49.1-py3-none-any.whl (10.0 MB)\n",
            "\u001b[2K   \u001b[90m━━━━━━━━━━━━━━━━━━━━━━━━━━━━━━━━━━━━━━━━\u001b[0m \u001b[32m10.0/10.0 MB\u001b[0m \u001b[31m82.7 MB/s\u001b[0m eta \u001b[36m0:00:00\u001b[0m\n",
            "\u001b[?25hDownloading pydeck-0.9.1-py2.py3-none-any.whl (6.9 MB)\n",
            "\u001b[2K   \u001b[90m━━━━━━━━━━━━━━━━━━━━━━━━━━━━━━━━━━━━━━━━\u001b[0m \u001b[32m6.9/6.9 MB\u001b[0m \u001b[31m97.7 MB/s\u001b[0m eta \u001b[36m0:00:00\u001b[0m\n",
            "\u001b[?25hInstalling collected packages: pydeck, streamlit\n",
            "Successfully installed pydeck-0.9.1 streamlit-1.49.1\n"
          ]
        }
      ]
    },
    {
      "cell_type": "code",
      "source": [
        "!pip install streamlit plotly"
      ],
      "metadata": {
        "colab": {
          "base_uri": "https://localhost:8080/"
        },
        "id": "V754m8WAvffZ",
        "outputId": "32fa158a-c32e-4bae-814d-943665f78008"
      },
      "execution_count": null,
      "outputs": [
        {
          "output_type": "stream",
          "name": "stdout",
          "text": [
            "Collecting streamlit\n",
            "  Downloading streamlit-1.50.0-py3-none-any.whl.metadata (9.5 kB)\n",
            "Requirement already satisfied: plotly in /usr/local/lib/python3.12/dist-packages (5.24.1)\n",
            "Requirement already satisfied: altair!=5.4.0,!=5.4.1,<6,>=4.0 in /usr/local/lib/python3.12/dist-packages (from streamlit) (5.5.0)\n",
            "Requirement already satisfied: blinker<2,>=1.5.0 in /usr/local/lib/python3.12/dist-packages (from streamlit) (1.9.0)\n",
            "Requirement already satisfied: cachetools<7,>=4.0 in /usr/local/lib/python3.12/dist-packages (from streamlit) (5.5.2)\n",
            "Requirement already satisfied: click<9,>=7.0 in /usr/local/lib/python3.12/dist-packages (from streamlit) (8.2.1)\n",
            "Requirement already satisfied: numpy<3,>=1.23 in /usr/local/lib/python3.12/dist-packages (from streamlit) (2.0.2)\n",
            "Requirement already satisfied: packaging<26,>=20 in /usr/local/lib/python3.12/dist-packages (from streamlit) (25.0)\n",
            "Requirement already satisfied: pandas<3,>=1.4.0 in /usr/local/lib/python3.12/dist-packages (from streamlit) (2.2.2)\n",
            "Requirement already satisfied: pillow<12,>=7.1.0 in /usr/local/lib/python3.12/dist-packages (from streamlit) (11.3.0)\n",
            "Requirement already satisfied: protobuf<7,>=3.20 in /usr/local/lib/python3.12/dist-packages (from streamlit) (5.29.5)\n",
            "Requirement already satisfied: pyarrow>=7.0 in /usr/local/lib/python3.12/dist-packages (from streamlit) (18.1.0)\n",
            "Requirement already satisfied: requests<3,>=2.27 in /usr/local/lib/python3.12/dist-packages (from streamlit) (2.32.4)\n",
            "Requirement already satisfied: tenacity<10,>=8.1.0 in /usr/local/lib/python3.12/dist-packages (from streamlit) (8.5.0)\n",
            "Requirement already satisfied: toml<2,>=0.10.1 in /usr/local/lib/python3.12/dist-packages (from streamlit) (0.10.2)\n",
            "Requirement already satisfied: typing-extensions<5,>=4.4.0 in /usr/local/lib/python3.12/dist-packages (from streamlit) (4.15.0)\n",
            "Requirement already satisfied: watchdog<7,>=2.1.5 in /usr/local/lib/python3.12/dist-packages (from streamlit) (6.0.0)\n",
            "Requirement already satisfied: gitpython!=3.1.19,<4,>=3.0.7 in /usr/local/lib/python3.12/dist-packages (from streamlit) (3.1.45)\n",
            "Collecting pydeck<1,>=0.8.0b4 (from streamlit)\n",
            "  Downloading pydeck-0.9.1-py2.py3-none-any.whl.metadata (4.1 kB)\n",
            "Requirement already satisfied: tornado!=6.5.0,<7,>=6.0.3 in /usr/local/lib/python3.12/dist-packages (from streamlit) (6.4.2)\n",
            "Requirement already satisfied: jinja2 in /usr/local/lib/python3.12/dist-packages (from altair!=5.4.0,!=5.4.1,<6,>=4.0->streamlit) (3.1.6)\n",
            "Requirement already satisfied: jsonschema>=3.0 in /usr/local/lib/python3.12/dist-packages (from altair!=5.4.0,!=5.4.1,<6,>=4.0->streamlit) (4.25.1)\n",
            "Requirement already satisfied: narwhals>=1.14.2 in /usr/local/lib/python3.12/dist-packages (from altair!=5.4.0,!=5.4.1,<6,>=4.0->streamlit) (2.5.0)\n",
            "Requirement already satisfied: gitdb<5,>=4.0.1 in /usr/local/lib/python3.12/dist-packages (from gitpython!=3.1.19,<4,>=3.0.7->streamlit) (4.0.12)\n",
            "Requirement already satisfied: python-dateutil>=2.8.2 in /usr/local/lib/python3.12/dist-packages (from pandas<3,>=1.4.0->streamlit) (2.9.0.post0)\n",
            "Requirement already satisfied: pytz>=2020.1 in /usr/local/lib/python3.12/dist-packages (from pandas<3,>=1.4.0->streamlit) (2025.2)\n",
            "Requirement already satisfied: tzdata>=2022.7 in /usr/local/lib/python3.12/dist-packages (from pandas<3,>=1.4.0->streamlit) (2025.2)\n",
            "Requirement already satisfied: charset_normalizer<4,>=2 in /usr/local/lib/python3.12/dist-packages (from requests<3,>=2.27->streamlit) (3.4.3)\n",
            "Requirement already satisfied: idna<4,>=2.5 in /usr/local/lib/python3.12/dist-packages (from requests<3,>=2.27->streamlit) (3.10)\n",
            "Requirement already satisfied: urllib3<3,>=1.21.1 in /usr/local/lib/python3.12/dist-packages (from requests<3,>=2.27->streamlit) (2.5.0)\n",
            "Requirement already satisfied: certifi>=2017.4.17 in /usr/local/lib/python3.12/dist-packages (from requests<3,>=2.27->streamlit) (2025.8.3)\n",
            "Requirement already satisfied: smmap<6,>=3.0.1 in /usr/local/lib/python3.12/dist-packages (from gitdb<5,>=4.0.1->gitpython!=3.1.19,<4,>=3.0.7->streamlit) (5.0.2)\n",
            "Requirement already satisfied: MarkupSafe>=2.0 in /usr/local/lib/python3.12/dist-packages (from jinja2->altair!=5.4.0,!=5.4.1,<6,>=4.0->streamlit) (3.0.2)\n",
            "Requirement already satisfied: attrs>=22.2.0 in /usr/local/lib/python3.12/dist-packages (from jsonschema>=3.0->altair!=5.4.0,!=5.4.1,<6,>=4.0->streamlit) (25.3.0)\n",
            "Requirement already satisfied: jsonschema-specifications>=2023.03.6 in /usr/local/lib/python3.12/dist-packages (from jsonschema>=3.0->altair!=5.4.0,!=5.4.1,<6,>=4.0->streamlit) (2025.9.1)\n",
            "Requirement already satisfied: referencing>=0.28.4 in /usr/local/lib/python3.12/dist-packages (from jsonschema>=3.0->altair!=5.4.0,!=5.4.1,<6,>=4.0->streamlit) (0.36.2)\n",
            "Requirement already satisfied: rpds-py>=0.7.1 in /usr/local/lib/python3.12/dist-packages (from jsonschema>=3.0->altair!=5.4.0,!=5.4.1,<6,>=4.0->streamlit) (0.27.1)\n",
            "Requirement already satisfied: six>=1.5 in /usr/local/lib/python3.12/dist-packages (from python-dateutil>=2.8.2->pandas<3,>=1.4.0->streamlit) (1.17.0)\n",
            "Downloading streamlit-1.50.0-py3-none-any.whl (10.1 MB)\n",
            "\u001b[2K   \u001b[90m━━━━━━━━━━━━━━━━━━━━━━━━━━━━━━━━━━━━━━━━\u001b[0m \u001b[32m10.1/10.1 MB\u001b[0m \u001b[31m108.1 MB/s\u001b[0m eta \u001b[36m0:00:00\u001b[0m\n",
            "\u001b[?25hDownloading pydeck-0.9.1-py2.py3-none-any.whl (6.9 MB)\n",
            "\u001b[2K   \u001b[90m━━━━━━━━━━━━━━━━━━━━━━━━━━━━━━━━━━━━━━━━\u001b[0m \u001b[32m6.9/6.9 MB\u001b[0m \u001b[31m154.6 MB/s\u001b[0m eta \u001b[36m0:00:00\u001b[0m\n",
            "\u001b[?25hInstalling collected packages: pydeck, streamlit\n",
            "Successfully installed pydeck-0.9.1 streamlit-1.50.0\n"
          ]
        }
      ]
    },
    {
      "cell_type": "code",
      "source": [
        "import streamlit as st\n",
        "import pandas as pd\n",
        "import numpy as np\n",
        "import joblib\n",
        "import plotly.graph_objects as go\n",
        "\n",
        "# Load trained model\n",
        "model = joblib.load('logistic_model.pkl')\n",
        "\n",
        "# Page config\n",
        "st.set_page_config(page_title=\"ART Risk Prediction\", page_icon=\"🧬\", layout=\"centered\")\n",
        "\n",
        "# Header\n",
        "st.markdown(\"<h1 style='text-align: center; color: #4B8BBE;'>🧬 ART Risk Prediction Dashboard</h1>\", unsafe_allow_html=True)\n",
        "st.markdown(\"\"\"\n",
        "Welcome to the ART Risk Prediction Dashboard.\n",
        "This tool helps estimate whether a patient is likely to be **virally suppressed**, which is a key indicator of **low transmission risk**.\n",
        "It’s designed to support decision-making for both clinicians and non-clinical users.\n",
        "\"\"\")\n",
        "\n",
        "# Sidebar\n",
        "st.sidebar.header(\"🔍 Filter Options\")\n",
        "maternal_filter = st.sidebar.selectbox(\"Show patients who are:\", [\"All\", \"Pregnant/Breastfeeding\", \"Not Maternal\"])\n",
        "st.sidebar.markdown(\"Use this to focus on maternal-risk patients.\")\n",
        "\n",
        "# Input section\n",
        "st.markdown(\"### 📋 Enter Patient Details\")\n",
        "\n",
        "with st.expander(\"ℹ️ What do these inputs mean?\"):\n",
        "    st.markdown(\"\"\"\n",
        "    - **Age at Reporting**: Patient's age when last evaluated\n",
        "    - **Baseline CD4 Result**: Immune system strength at ART start\n",
        "    - **Time on ART (Months)**: Duration on treatment\n",
        "    - **Maternal Status**: Whether the patient is pregnant or breastfeeding\n",
        "    \"\"\")\n",
        "\n",
        "age = st.number_input(\"👤 Age at Reporting\", min_value=0, max_value=100, value=30)\n",
        "cd4 = st.number_input(\"🧪 Baseline CD4 Result\", min_value=0, max_value=2000, value=300)\n",
        "months_on_art = st.number_input(\"📅 Time on ART (Months)\", min_value=0.0, max_value=240.0, value=12.0)\n",
        "maternal_status = st.selectbox(\"🤰 Maternal Status\", [\"Pregnant\", \"Breastfeeding\", \"Neither\"])\n",
        "\n",
        "maternal_flag = 1 if maternal_status in [\"Pregnant\", \"Breastfeeding\"] else 0\n",
        "\n",
        "# Prediction\n",
        "if st.button(\"🚀 Predict Suppression Status\"):\n",
        "    input_data = pd.DataFrame({\n",
        "        'Age At Reporting': [age],\n",
        "        'Baseline Cd4 Result': [cd4],\n",
        "        'Time On ART (Months)': [months_on_art]\n",
        "    })\n",
        "\n",
        "    prediction = model.predict(input_data)[0]\n",
        "    prob = model.predict_proba(input_data)[0][prediction]\n",
        "\n",
        "    status = \"🟢 Suppressed (Low Risk)\" if prediction == 1 else \"🔴 Unsuppressed (High Risk)\"\n",
        "    color = \"#2ECC71\" if prediction == 1 else \"#E74C3C\"\n",
        "\n",
        "    st.markdown(f\"<h3 style='color:{color};'>Prediction: {status}</h3>\", unsafe_allow_html=True)\n",
        "    st.markdown(f\"Confidence Score: **{prob:.2f}**\")\n",
        "\n",
        "    # Visual confidence gauge\n",
        "    fig = go.Figure(go.Indicator(\n",
        "        mode=\"gauge+number\",\n",
        "        value=prob * 100,\n",
        "        title={'text': \"Confidence (%)\"},\n",
        "        gauge={'axis': {'range': [0, 100]},\n",
        "               'bar': {'color': color},\n",
        "               'steps': [\n",
        "                   {'range': [0, 50], 'color': \"#FADBD8\"},\n",
        "                   {'range': [50, 80], 'color': \"#F9E79F\"},\n",
        "                   {'range': [80, 100], 'color': \"#D5F5E3\"}]}\n",
        "    ))\n",
        "    st.plotly_chart(fig)\n",
        "\n",
        "    with st.expander(\"🧠 What does this mean?\"):\n",
        "        if prediction == 1:\n",
        "            st.markdown(\"\"\"\n",
        "            The patient is likely **virally suppressed**, which means their risk of transmitting HIV is **very low**.\n",
        "            Continue monitoring and supporting adherence to treatment.\n",
        "            \"\"\")\n",
        "        else:\n",
        "            st.markdown(\"\"\"\n",
        "            The patient is likely **not virally suppressed**, which may indicate **higher transmission risk**.\n",
        "            Consider clinical review, adherence support, and maternal care if applicable.\n",
        "            \"\"\")\n",
        "\n",
        "# Maternal filter reminder\n",
        "if maternal_filter != \"All\":\n",
        "    st.info(f\"Dashboard is currently filtered to show patients who are **{'maternal' if maternal_filter == 'Pregnant/Breastfeeding' else 'not maternal'}**.\")\n",
        "\n",
        "# Footer\n",
        "st.markdown(\"---\")\n",
        "st.markdown(\"🔐 This tool does not store any patient data. Predictions are based on anonymized clinical features.\")\n"
      ],
      "metadata": {
        "colab": {
          "base_uri": "https://localhost:8080/"
        },
        "id": "zplAcerZ_G4N",
        "outputId": "22abf8f6-58fa-43f7-b16f-4b35e409a166"
      },
      "execution_count": null,
      "outputs": [
        {
          "output_type": "stream",
          "name": "stderr",
          "text": [
            "2025-09-24 08:01:48.445 WARNING streamlit.runtime.scriptrunner_utils.script_run_context: Thread 'MainThread': missing ScriptRunContext! This warning can be ignored when running in bare mode.\n",
            "2025-09-24 08:01:48.446 WARNING streamlit.runtime.scriptrunner_utils.script_run_context: Thread 'MainThread': missing ScriptRunContext! This warning can be ignored when running in bare mode.\n",
            "2025-09-24 08:01:48.640 \n",
            "  \u001b[33m\u001b[1mWarning:\u001b[0m to view this Streamlit app on a browser, run it with the following\n",
            "  command:\n",
            "\n",
            "    streamlit run /usr/local/lib/python3.12/dist-packages/colab_kernel_launcher.py [ARGUMENTS]\n",
            "2025-09-24 08:01:48.645 Thread 'MainThread': missing ScriptRunContext! This warning can be ignored when running in bare mode.\n",
            "2025-09-24 08:01:48.650 Thread 'MainThread': missing ScriptRunContext! This warning can be ignored when running in bare mode.\n",
            "2025-09-24 08:01:48.652 Thread 'MainThread': missing ScriptRunContext! This warning can be ignored when running in bare mode.\n",
            "2025-09-24 08:01:48.654 Thread 'MainThread': missing ScriptRunContext! This warning can be ignored when running in bare mode.\n",
            "2025-09-24 08:01:48.656 Thread 'MainThread': missing ScriptRunContext! This warning can be ignored when running in bare mode.\n",
            "2025-09-24 08:01:48.659 Thread 'MainThread': missing ScriptRunContext! This warning can be ignored when running in bare mode.\n",
            "2025-09-24 08:01:48.663 Thread 'MainThread': missing ScriptRunContext! This warning can be ignored when running in bare mode.\n",
            "2025-09-24 08:01:48.670 Thread 'MainThread': missing ScriptRunContext! This warning can be ignored when running in bare mode.\n",
            "2025-09-24 08:01:48.673 Thread 'MainThread': missing ScriptRunContext! This warning can be ignored when running in bare mode.\n",
            "2025-09-24 08:01:48.674 Thread 'MainThread': missing ScriptRunContext! This warning can be ignored when running in bare mode.\n",
            "2025-09-24 08:01:48.675 Thread 'MainThread': missing ScriptRunContext! This warning can be ignored when running in bare mode.\n",
            "2025-09-24 08:01:48.677 Thread 'MainThread': missing ScriptRunContext! This warning can be ignored when running in bare mode.\n",
            "2025-09-24 08:01:48.680 Session state does not function when running a script without `streamlit run`\n",
            "2025-09-24 08:01:48.686 Thread 'MainThread': missing ScriptRunContext! This warning can be ignored when running in bare mode.\n",
            "2025-09-24 08:01:48.690 Thread 'MainThread': missing ScriptRunContext! This warning can be ignored when running in bare mode.\n",
            "2025-09-24 08:01:48.695 Thread 'MainThread': missing ScriptRunContext! This warning can be ignored when running in bare mode.\n",
            "2025-09-24 08:01:48.699 Thread 'MainThread': missing ScriptRunContext! This warning can be ignored when running in bare mode.\n",
            "2025-09-24 08:01:48.702 Thread 'MainThread': missing ScriptRunContext! This warning can be ignored when running in bare mode.\n",
            "2025-09-24 08:01:48.704 Thread 'MainThread': missing ScriptRunContext! This warning can be ignored when running in bare mode.\n",
            "2025-09-24 08:01:48.708 Thread 'MainThread': missing ScriptRunContext! This warning can be ignored when running in bare mode.\n",
            "2025-09-24 08:01:48.711 Thread 'MainThread': missing ScriptRunContext! This warning can be ignored when running in bare mode.\n",
            "2025-09-24 08:01:48.712 Thread 'MainThread': missing ScriptRunContext! This warning can be ignored when running in bare mode.\n",
            "2025-09-24 08:01:48.718 Thread 'MainThread': missing ScriptRunContext! This warning can be ignored when running in bare mode.\n",
            "2025-09-24 08:01:48.725 Thread 'MainThread': missing ScriptRunContext! This warning can be ignored when running in bare mode.\n",
            "2025-09-24 08:01:48.729 Thread 'MainThread': missing ScriptRunContext! This warning can be ignored when running in bare mode.\n",
            "2025-09-24 08:01:48.731 Thread 'MainThread': missing ScriptRunContext! This warning can be ignored when running in bare mode.\n",
            "2025-09-24 08:01:48.732 Thread 'MainThread': missing ScriptRunContext! This warning can be ignored when running in bare mode.\n",
            "2025-09-24 08:01:48.733 Thread 'MainThread': missing ScriptRunContext! This warning can be ignored when running in bare mode.\n",
            "2025-09-24 08:01:48.735 Thread 'MainThread': missing ScriptRunContext! This warning can be ignored when running in bare mode.\n",
            "2025-09-24 08:01:48.742 Thread 'MainThread': missing ScriptRunContext! This warning can be ignored when running in bare mode.\n",
            "2025-09-24 08:01:48.746 Thread 'MainThread': missing ScriptRunContext! This warning can be ignored when running in bare mode.\n",
            "2025-09-24 08:01:48.749 Thread 'MainThread': missing ScriptRunContext! This warning can be ignored when running in bare mode.\n",
            "2025-09-24 08:01:48.751 Thread 'MainThread': missing ScriptRunContext! This warning can be ignored when running in bare mode.\n",
            "2025-09-24 08:01:48.752 Thread 'MainThread': missing ScriptRunContext! This warning can be ignored when running in bare mode.\n",
            "2025-09-24 08:01:48.753 Thread 'MainThread': missing ScriptRunContext! This warning can be ignored when running in bare mode.\n",
            "2025-09-24 08:01:48.758 Thread 'MainThread': missing ScriptRunContext! This warning can be ignored when running in bare mode.\n",
            "2025-09-24 08:01:48.759 Thread 'MainThread': missing ScriptRunContext! This warning can be ignored when running in bare mode.\n",
            "2025-09-24 08:01:48.763 Thread 'MainThread': missing ScriptRunContext! This warning can be ignored when running in bare mode.\n",
            "2025-09-24 08:01:48.766 Thread 'MainThread': missing ScriptRunContext! This warning can be ignored when running in bare mode.\n",
            "2025-09-24 08:01:48.768 Thread 'MainThread': missing ScriptRunContext! This warning can be ignored when running in bare mode.\n",
            "2025-09-24 08:01:48.770 Thread 'MainThread': missing ScriptRunContext! This warning can be ignored when running in bare mode.\n",
            "2025-09-24 08:01:48.773 Thread 'MainThread': missing ScriptRunContext! This warning can be ignored when running in bare mode.\n",
            "2025-09-24 08:01:48.775 Thread 'MainThread': missing ScriptRunContext! This warning can be ignored when running in bare mode.\n",
            "2025-09-24 08:01:48.777 Thread 'MainThread': missing ScriptRunContext! This warning can be ignored when running in bare mode.\n",
            "2025-09-24 08:01:48.779 Thread 'MainThread': missing ScriptRunContext! This warning can be ignored when running in bare mode.\n",
            "2025-09-24 08:01:48.781 Thread 'MainThread': missing ScriptRunContext! This warning can be ignored when running in bare mode.\n",
            "2025-09-24 08:01:48.783 Thread 'MainThread': missing ScriptRunContext! This warning can be ignored when running in bare mode.\n",
            "2025-09-24 08:01:48.783 Thread 'MainThread': missing ScriptRunContext! This warning can be ignored when running in bare mode.\n",
            "2025-09-24 08:01:48.786 Thread 'MainThread': missing ScriptRunContext! This warning can be ignored when running in bare mode.\n",
            "2025-09-24 08:01:48.786 Thread 'MainThread': missing ScriptRunContext! This warning can be ignored when running in bare mode.\n",
            "2025-09-24 08:01:48.789 Thread 'MainThread': missing ScriptRunContext! This warning can be ignored when running in bare mode.\n",
            "2025-09-24 08:01:48.790 Thread 'MainThread': missing ScriptRunContext! This warning can be ignored when running in bare mode.\n",
            "2025-09-24 08:01:48.792 Thread 'MainThread': missing ScriptRunContext! This warning can be ignored when running in bare mode.\n",
            "2025-09-24 08:01:48.793 Thread 'MainThread': missing ScriptRunContext! This warning can be ignored when running in bare mode.\n",
            "2025-09-24 08:01:48.796 Thread 'MainThread': missing ScriptRunContext! This warning can be ignored when running in bare mode.\n",
            "2025-09-24 08:01:48.798 Thread 'MainThread': missing ScriptRunContext! This warning can be ignored when running in bare mode.\n",
            "2025-09-24 08:01:48.806 Thread 'MainThread': missing ScriptRunContext! This warning can be ignored when running in bare mode.\n",
            "2025-09-24 08:01:48.806 Thread 'MainThread': missing ScriptRunContext! This warning can be ignored when running in bare mode.\n",
            "2025-09-24 08:01:48.807 Thread 'MainThread': missing ScriptRunContext! This warning can be ignored when running in bare mode.\n",
            "2025-09-24 08:01:48.807 Thread 'MainThread': missing ScriptRunContext! This warning can be ignored when running in bare mode.\n",
            "2025-09-24 08:01:48.808 Thread 'MainThread': missing ScriptRunContext! This warning can be ignored when running in bare mode.\n",
            "2025-09-24 08:01:48.809 Thread 'MainThread': missing ScriptRunContext! This warning can be ignored when running in bare mode.\n",
            "2025-09-24 08:01:48.809 Thread 'MainThread': missing ScriptRunContext! This warning can be ignored when running in bare mode.\n",
            "2025-09-24 08:01:48.809 Thread 'MainThread': missing ScriptRunContext! This warning can be ignored when running in bare mode.\n",
            "2025-09-24 08:01:48.810 Thread 'MainThread': missing ScriptRunContext! This warning can be ignored when running in bare mode.\n",
            "2025-09-24 08:01:48.811 Thread 'MainThread': missing ScriptRunContext! This warning can be ignored when running in bare mode.\n"
          ]
        },
        {
          "output_type": "execute_result",
          "data": {
            "text/plain": [
              "DeltaGenerator()"
            ]
          },
          "metadata": {},
          "execution_count": 46
        }
      ]
    },
    {
      "cell_type": "code",
      "source": [
        "!streamlit run app.py"
      ],
      "metadata": {
        "colab": {
          "base_uri": "https://localhost:8080/"
        },
        "id": "7CgzANJ8AfIN",
        "outputId": "bdea4b77-81ab-497d-ccb5-df7ed74088ca"
      },
      "execution_count": null,
      "outputs": [
        {
          "metadata": {
            "tags": null
          },
          "name": "stdout",
          "output_type": "stream",
          "text": [
            "\n",
            "Collecting usage statistics. To deactivate, set browser.gatherUsageStats to false.\n",
            "\u001b[0m\n",
            "\u001b[0m\n",
            "\u001b[34m\u001b[1m  You can now view your Streamlit app in your browser.\u001b[0m\n",
            "\u001b[0m\n",
            "\u001b[34m  Local URL: \u001b[0m\u001b[1mhttp://localhost:8501\u001b[0m\n",
            "\u001b[34m  Network URL: \u001b[0m\u001b[1mhttp://172.28.0.12:8501\u001b[0m\n",
            "\u001b[34m  External URL: \u001b[0m\u001b[1mhttp://34.125.111.188:8501\u001b[0m\n",
            "\u001b[0m\n"
          ]
        }
      ]
    },
    {
      "cell_type": "code",
      "source": [
        "# Save requirements.txt\n",
        "with open(\"requirements.txt\", \"w\") as f:\n",
        "    f.write(\"\"\"streamlit\n",
        "pandas\n",
        "numpy\n",
        "scikit-learn\n",
        "plotly\n",
        "joblib\n",
        "\"\"\")\n",
        "\n",
        "# Save app.py (replace with your full dashboard code)\n",
        "with open(\"app.py\", \"w\") as f:\n",
        "    f.write(\"# Paste your full Streamlit dashboard code here\")\n",
        "\n",
        "# Save model (already done earlier)\n",
        "# joblib.dump(lr_model, 'logistic_model.pkl')\n"
      ],
      "metadata": {
        "id": "UsHyvl0_BSAr"
      },
      "execution_count": null,
      "outputs": []
    },
    {
      "cell_type": "code",
      "source": [
        "joblib.dump(rf_model, 'random_forest_model.pkl')\n"
      ],
      "metadata": {
        "colab": {
          "base_uri": "https://localhost:8080/"
        },
        "id": "KzLweISes57g",
        "outputId": "12370b72-84f9-4a87-af15-e3e4fbf05078"
      },
      "execution_count": null,
      "outputs": [
        {
          "output_type": "execute_result",
          "data": {
            "text/plain": [
              "['random_forest_model.pkl']"
            ]
          },
          "metadata": {},
          "execution_count": 44
        }
      ]
    },
    {
      "cell_type": "code",
      "source": [
        "joblib.dump(rf_model, 'random_forest_model.pkl')\n"
      ],
      "metadata": {
        "id": "mqYwK6bI4tGV"
      },
      "execution_count": null,
      "outputs": []
    }
  ]
}